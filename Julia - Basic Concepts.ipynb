{
 "cells": [
  {
   "cell_type": "markdown",
   "metadata": {},
   "source": [
    "# Julia Basic Concepts"
   ]
  },
  {
   "cell_type": "markdown",
   "metadata": {},
   "source": [
    "Ricardo A. Fernandes\n",
    "ricardoaf@lccv.ufal.br\n",
    "\n",
    "This notebook presents main Julia basic concepts and serves as a introductory guide to the language. It is based on the two following references:\n",
    "- Kochenderfer, M. J. & Wheeler, T. A. (2019) Algorithms for Optimization, MIT Press\n",
    "- Banas D. (2018) Julia Tutorial, http://www.newthinktank.com/2018/10/julia-tutorial/\n"
   ]
  },
  {
   "cell_type": "markdown",
   "metadata": {},
   "source": [
    "## Variables\n",
    "- Types are dynamically assigned and can be changed\n",
    "- Variables start with \\_, letters and then numbers, or !\n",
    "- Unicode characters are also allowed, with a few restrictions"
   ]
  },
  {
   "cell_type": "code",
   "execution_count": 1,
   "metadata": {},
   "outputs": [
    {
     "name": "stdout",
     "output_type": "stream",
     "text": [
      "Dogs: 3"
     ]
    }
   ],
   "source": [
    "α = 3\n",
    "s = \"Dogs: \"\n",
    "print(s, α)"
   ]
  },
  {
   "cell_type": "markdown",
   "metadata": {},
   "source": [
    "## Types"
   ]
  },
  {
   "cell_type": "markdown",
   "metadata": {},
   "source": [
    "### Booleans\n",
    "\n",
    "The Boolean type in Julia, written *Bool*, includes the values **true** and **false**"
   ]
  },
  {
   "cell_type": "code",
   "execution_count": 2,
   "metadata": {},
   "outputs": [
    {
     "data": {
      "text/plain": [
       "Bool"
      ]
     },
     "execution_count": 2,
     "metadata": {},
     "output_type": "execute_result"
    }
   ],
   "source": [
    "x = true\n",
    "y = false\n",
    "typeof(x)"
   ]
  },
  {
   "cell_type": "code",
   "execution_count": 3,
   "metadata": {},
   "outputs": [
    {
     "data": {
      "text/plain": [
       "false"
      ]
     },
     "execution_count": 3,
     "metadata": {},
     "output_type": "execute_result"
    }
   ],
   "source": [
    "!x  # not"
   ]
  },
  {
   "cell_type": "code",
   "execution_count": 4,
   "metadata": {},
   "outputs": [
    {
     "data": {
      "text/plain": [
       "false"
      ]
     },
     "execution_count": 4,
     "metadata": {},
     "output_type": "execute_result"
    }
   ],
   "source": [
    "x && y  # and"
   ]
  },
  {
   "cell_type": "code",
   "execution_count": 5,
   "metadata": {},
   "outputs": [
    {
     "data": {
      "text/plain": [
       "true"
      ]
     },
     "execution_count": 5,
     "metadata": {},
     "output_type": "execute_result"
    }
   ],
   "source": [
    "x || y  # or"
   ]
  },
  {
   "cell_type": "markdown",
   "metadata": {},
   "source": [
    "### Numbers\n",
    "Julia supports integer and floating point numbers"
   ]
  },
  {
   "cell_type": "code",
   "execution_count": 6,
   "metadata": {},
   "outputs": [
    {
     "data": {
      "text/plain": [
       "(Int64, Float64)"
      ]
     },
     "execution_count": 6,
     "metadata": {},
     "output_type": "execute_result"
    }
   ],
   "source": [
    "typeof(42), typeof(42.0)"
   ]
  },
  {
   "cell_type": "code",
   "execution_count": 7,
   "metadata": {},
   "outputs": [
    {
     "data": {
      "text/plain": [
       "6.666666666666667"
      ]
     },
     "execution_count": 7,
     "metadata": {},
     "output_type": "execute_result"
    }
   ],
   "source": [
    "x = 4\n",
    "y = 2\n",
    "(x^2 + 2y) / (y + 1)"
   ]
  },
  {
   "cell_type": "code",
   "execution_count": 8,
   "metadata": {},
   "outputs": [
    {
     "data": {
      "text/plain": [
       "0"
      ]
     },
     "execution_count": 8,
     "metadata": {},
     "output_type": "execute_result"
    }
   ],
   "source": [
    "x % y  # x mod y"
   ]
  },
  {
   "cell_type": "code",
   "execution_count": 9,
   "metadata": {},
   "outputs": [
    {
     "data": {
      "text/plain": [
       "5"
      ]
     },
     "execution_count": 9,
     "metadata": {},
     "output_type": "execute_result"
    }
   ],
   "source": [
    "x += 1  # shortcut for x = x + 1"
   ]
  },
  {
   "cell_type": "code",
   "execution_count": 10,
   "metadata": {},
   "outputs": [
    {
     "data": {
      "text/plain": [
       "false"
      ]
     },
     "execution_count": 10,
     "metadata": {},
     "output_type": "execute_result"
    }
   ],
   "source": [
    "3 > 4"
   ]
  },
  {
   "cell_type": "code",
   "execution_count": 11,
   "metadata": {},
   "outputs": [
    {
     "data": {
      "text/plain": [
       "true"
      ]
     },
     "execution_count": 11,
     "metadata": {},
     "output_type": "execute_result"
    }
   ],
   "source": [
    "3 ≤ 4  # unicode also works"
   ]
  },
  {
   "cell_type": "code",
   "execution_count": 12,
   "metadata": {},
   "outputs": [
    {
     "data": {
      "text/plain": [
       "true"
      ]
     },
     "execution_count": 12,
     "metadata": {},
     "output_type": "execute_result"
    }
   ],
   "source": [
    "3 < 4 < 5"
   ]
  },
  {
   "cell_type": "markdown",
   "metadata": {},
   "source": [
    "### Strings\n",
    "A string is an array of characteres"
   ]
  },
  {
   "cell_type": "code",
   "execution_count": 13,
   "metadata": {},
   "outputs": [
    {
     "data": {
      "text/plain": [
       "22"
      ]
     },
     "execution_count": 13,
     "metadata": {},
     "output_type": "execute_result"
    }
   ],
   "source": [
    "s1 = \"Just some random words\"\n",
    "length(s1)"
   ]
  },
  {
   "cell_type": "code",
   "execution_count": 14,
   "metadata": {},
   "outputs": [
    {
     "data": {
      "text/plain": [
       "('J', 's', \"Just\")"
      ]
     },
     "execution_count": 14,
     "metadata": {},
     "output_type": "execute_result"
    }
   ],
   "source": [
    "s1[1], s1[end], s1[1:4]"
   ]
  },
  {
   "cell_type": "code",
   "execution_count": 15,
   "metadata": {},
   "outputs": [
    {
     "data": {
      "text/plain": [
       "true"
      ]
     },
     "execution_count": 15,
     "metadata": {},
     "output_type": "execute_result"
    }
   ],
   "source": [
    "s2 = string(\"Hey\", \" you!\")  # concatenation\n",
    "s2 == \"Hey\" * \" you!\""
   ]
  },
  {
   "cell_type": "code",
   "execution_count": 16,
   "metadata": {},
   "outputs": [
    {
     "data": {
      "text/plain": [
       "\"2 + 3 = 5\""
      ]
     },
     "execution_count": 16,
     "metadata": {},
     "output_type": "execute_result"
    }
   ],
   "source": [
    "a = 2\n",
    "b = 3\n",
    "\"$a + $b = $(a + b)\"  # interpolation"
   ]
  },
  {
   "cell_type": "code",
   "execution_count": 17,
   "metadata": {},
   "outputs": [
    {
     "name": "stdout",
     "output_type": "stream",
     "text": [
      "I\n",
      "have\n",
      "many\n",
      "lines"
     ]
    }
   ],
   "source": [
    "s3 = \"I\n",
    "have\n",
    "many\n",
    "lines\"\n",
    "print(s3)"
   ]
  },
  {
   "cell_type": "code",
   "execution_count": 18,
   "metadata": {},
   "outputs": [
    {
     "data": {
      "text/plain": [
       "true"
      ]
     },
     "execution_count": 18,
     "metadata": {},
     "output_type": "execute_result"
    }
   ],
   "source": [
    "\"House\" > \"Home\"  # string comparison (== > < !=)"
   ]
  },
  {
   "cell_type": "code",
   "execution_count": 19,
   "metadata": {},
   "outputs": [
    {
     "data": {
      "text/plain": [
       "true"
      ]
     },
     "execution_count": 19,
     "metadata": {},
     "output_type": "execute_result"
    }
   ],
   "source": [
    "occursin(\"key\", \"monkey\")  # substring"
   ]
  },
  {
   "cell_type": "markdown",
   "metadata": {},
   "source": [
    "### Vectors\n",
    "- A *vector* is a 1D-array that stores a sequence of values\n",
    "- Can be constructed using square brackets, separating elements by commas"
   ]
  },
  {
   "cell_type": "code",
   "execution_count": 20,
   "metadata": {},
   "outputs": [],
   "source": [
    "x = [];                      # empty vector\n",
    "x = trues(3);                # Boolean vector containing three trues\n",
    "x = ones(3);                 # vector of three ones\n",
    "x = zeros(3);                # vector of three zeros\n",
    "x = rand(3);                 # vector of three random numbers between 0 and 1\n",
    "x = [3, 1, 4];               # vector of integers\n",
    "x = [3.1415, 1.618, 2.7182]; # vector of floats"
   ]
  },
  {
   "cell_type": "markdown",
   "metadata": {},
   "source": [
    "*Array comprehension* can also be used to create vectors"
   ]
  },
  {
   "cell_type": "code",
   "execution_count": 21,
   "metadata": {},
   "outputs": [
    {
     "name": "stdout",
     "output_type": "stream",
     "text": [
      "[0.8414709848078965, 0.9092974268256817, 0.1411200080598672, -0.7568024953079282, -0.9589242746631385]"
     ]
    }
   ],
   "source": [
    "print([sin(x) for x = 1:5])"
   ]
  },
  {
   "cell_type": "code",
   "execution_count": 22,
   "metadata": {},
   "outputs": [
    {
     "data": {
      "text/plain": [
       "(Array{Int64,1}, Array{Float64,1})"
      ]
     },
     "execution_count": 22,
     "metadata": {},
     "output_type": "execute_result"
    }
   ],
   "source": [
    "typeof([3, 1, 4]), typeof([3.1415, 1.618, 2.7182])"
   ]
  },
  {
   "cell_type": "code",
   "execution_count": 23,
   "metadata": {},
   "outputs": [
    {
     "name": "stdout",
     "output_type": "stream",
     "text": [
      "3.1415\n",
      "2.7182\n",
      "2.7182\n",
      "1.618\n"
     ]
    }
   ],
   "source": [
    "println(x[1])        # first element is indexed by 1\n",
    "println(x[3])        # third element\n",
    "println(x[end])      # last element\n",
    "println(x[end - 1])  # second to last element)"
   ]
  },
  {
   "cell_type": "code",
   "execution_count": 24,
   "metadata": {},
   "outputs": [
    {
     "name": "stdout",
     "output_type": "stream",
     "text": [
      "len(x): 7\n",
      "[1, 1, 2]\n",
      "[1, 2, 5, 13]\n",
      "[13, 8, 5, 3, 2, 1, 1]\n"
     ]
    }
   ],
   "source": [
    "x = [1, 1, 2, 3, 5, 8, 13]\n",
    "println(\"len(x): \", length(x))  # vector length\n",
    "println(x[1:3])                 # first three elements\n",
    "println(x[1:2:end])             # elements with odd indices\n",
    "println(x[end:-1:1])            # reverse order"
   ]
  },
  {
   "cell_type": "code",
   "execution_count": 25,
   "metadata": {},
   "outputs": [
    {
     "name": "stdout",
     "output_type": "stream",
     "text": [
      "33\n",
      "13\n",
      "1\n"
     ]
    }
   ],
   "source": [
    "println(sum(x))      # sum of vector elements\n",
    "println(maximum(x))  # max value\n",
    "println(minimum(x))  # min value"
   ]
  },
  {
   "cell_type": "code",
   "execution_count": 26,
   "metadata": {},
   "outputs": [
    {
     "name": "stdout",
     "output_type": "stream",
     "text": [
      "4.714285714285714\n"
     ]
    }
   ],
   "source": [
    "using Statistics\n",
    "println(mean(x))  # mean of vector elements"
   ]
  },
  {
   "cell_type": "code",
   "execution_count": 27,
   "metadata": {},
   "outputs": [
    {
     "name": "stdout",
     "output_type": "stream",
     "text": [
      "[[1, 1, 2, 3, 5, 8, 13], [1, 1, 2, 3, 5, 8, 13]]\n",
      "[1, 1, 2, 3, 5, 8, 13, -1]\n",
      "-1\n",
      "[1, 1, 2, 3, 5, 8, 13, 2, 3]\n",
      "[1, 1, 2, 2, 3, 3, 5, 8, 13]\n",
      "[2, 1, 2, 2, 3, 3, 5, 8, 13]\n"
     ]
    }
   ],
   "source": [
    "println([x, x])              # concatenation\n",
    "println(push!(x, -1))        # add an element to the end\n",
    "println(pop!(x))             # remove and element from the end\n",
    "println(append!(x, [2, 3]))  # append to the end of x\n",
    "println(sort!(x))            # sort vector elements\n",
    "x[1] = 2; println(x)         # change first element"
   ]
  },
  {
   "cell_type": "code",
   "execution_count": 28,
   "metadata": {},
   "outputs": [
    {
     "name": "stdout",
     "output_type": "stream",
     "text": [
      "[4, 6]\n",
      "[2, 4]\n"
     ]
    }
   ],
   "source": [
    "x = [1, 2]\n",
    "y = [3, 4]\n",
    "println(x + y)        # add vectors\n",
    "println(3x - [1, 2])  # multiply by a scalar and subtract"
   ]
  },
  {
   "cell_type": "code",
   "execution_count": 29,
   "metadata": {},
   "outputs": [
    {
     "name": "stdout",
     "output_type": "stream",
     "text": [
      "11\n",
      "11\n"
     ]
    }
   ],
   "source": [
    "using LinearAlgebra\n",
    "println(dot(x,y))  # dot product\n",
    "println(x⋅y)       # dot product using unicode character"
   ]
  },
  {
   "cell_type": "code",
   "execution_count": 30,
   "metadata": {},
   "outputs": [
    {
     "name": "stdout",
     "output_type": "stream",
     "text": [
      "[3, 8]\n",
      "[1, 4]\n",
      "[0.8414709848078965, 0.9092974268256817]\n",
      "[1.0, 1.4142135623730951]\n",
      "[1.5, 2.0]\n"
     ]
    }
   ],
   "source": [
    "# element-wise operations\n",
    "println(x .* y)        # multiplication\n",
    "println(x .^ 2)        # squaring\n",
    "println(sin.(x))       # application of sin\n",
    "println(sqrt.(x))      # application of sqrt\n",
    "println(max.(x, 1.5))  # application of max{xᵢ,1.5}"
   ]
  },
  {
   "cell_type": "markdown",
   "metadata": {},
   "source": [
    "### Matrices\n",
    "- A *matrix* is a 2D-array\n",
    "- Like a vector, can be constructed using square brackets\n",
    "- Use spaces to delimit elements in the same row\n",
    "- Use semicolons to delimit rows"
   ]
  },
  {
   "cell_type": "code",
   "execution_count": 31,
   "metadata": {},
   "outputs": [
    {
     "name": "stdout",
     "output_type": "stream",
     "text": [
      "Array{Int64,2}\n"
     ]
    },
    {
     "data": {
      "text/plain": [
       "(4, 3)"
      ]
     },
     "execution_count": 31,
     "metadata": {},
     "output_type": "execute_result"
    }
   ],
   "source": [
    "X = [1 2 3; 4 5 6; 7 8 9; 10 11 12]\n",
    "println(typeof(X))\n",
    "size(X)"
   ]
  },
  {
   "cell_type": "code",
   "execution_count": 32,
   "metadata": {},
   "outputs": [
    {
     "name": "stdout",
     "output_type": "stream",
     "text": [
      "4\n",
      "8\n",
      "[1, 2, 3]\n",
      "[2, 5, 8, 11]\n",
      "[1 2; 4 5; 7 8; 10 11]\n",
      "[1 2; 4 5]\n"
     ]
    }
   ],
   "source": [
    "println(X[2])        # 2nd element using column-major ordering\n",
    "println(X[3,2])      # element in 3rd row and 2nd column\n",
    "println(X[1,:])      # 1st row\n",
    "println(X[:,2])      # 2nd column\n",
    "println(X[:,1:2])    # first two columns\n",
    "println(X[1:2,1:2])  # top left 2x2 submatrix"
   ]
  },
  {
   "cell_type": "code",
   "execution_count": 33,
   "metadata": {},
   "outputs": [
    {
     "name": "stdout",
     "output_type": "stream",
     "text": [
      "[1.0 0.0 0.0; 0.0 1.0 0.0; 0.0 0.0 1.0]\n",
      "[3 0 0; 0 2 0; 0 0 1]\n",
      "[0.10073073367249985 0.6128712205592737; 0.532513242861034 0.13013717690737714; 0.7904904927101746 0.6373919171245033]\n",
      "[0.0 0.0; 0.0 0.0; 0.0 0.0]\n",
      "[0.9092974268256817 0.1411200080598672; 0.1411200080598672 -0.7568024953079282; -0.7568024953079282 -0.9589242746631385]\n"
     ]
    }
   ],
   "source": [
    "println(Matrix(1.0I, 3, 3))             # 3x3 identity matrix\n",
    "println(Matrix(Diagonal([3, 2, 1])))    # Diagonal matrix\n",
    "println(rand(3,2))                      # Random matrix\n",
    "println(zeros(3,2))                     # Matrix of zeros\n",
    "println([sin(x + y) for x=1:3, y=1:2])  # array comprehension"
   ]
  },
  {
   "cell_type": "code",
   "execution_count": 34,
   "metadata": {},
   "outputs": [
    {
     "name": "stdout",
     "output_type": "stream",
     "text": [
      "[1 4 7 10; 2 5 8 11; 3 6 9 12]\n",
      "[5 8 11; 14 17 20; 23 26 29; 32 35 38]\n",
      "[-0.125 0.375; 0.375 -0.125]\n",
      "-8.0\n",
      "[1 3 1 3; 3 1 3 1]\n",
      "[1 3; 3 1; 1 3; 3 1]\n",
      "[0.8414709848078965 0.1411200080598672; 0.1411200080598672 0.8414709848078965]\n"
     ]
    }
   ],
   "source": [
    "println(X')       # complex conjugate transpose\n",
    "println(3X .+ 2)  # multiplying by scalar and adding scalar\n",
    "X = [1 3; 3 1]    # invertible matrix\n",
    "println(inv(X))   # invsersion\n",
    "println(det(X))   # determinant\n",
    "println([X X])    # horizontal concatenation\n",
    "println([X; X])   # vertical concatenation\n",
    "println(sin.(X))  # element-wise application of sin"
   ]
  },
  {
   "cell_type": "code",
   "execution_count": 35,
   "metadata": {},
   "outputs": [
    {
     "name": "stdout",
     "output_type": "stream",
     "text": [
      "[0.9999999999999994, -1.9999999999999984, -1.9999999999999984]"
     ]
    }
   ],
   "source": [
    "# Solving a system of linear equations\n",
    "# 3x + 2y - z = 1\n",
    "# 2x - 2y + 4z = -2\n",
    "# -x + 1/2*y -z = 0\n",
    "\n",
    "A = [3 2 -1; 2 -2 4; -1 1/2 -1]\n",
    "b = [1, -2, 0]\n",
    "x = A\\b\n",
    "print(x)"
   ]
  },
  {
   "cell_type": "markdown",
   "metadata": {},
   "source": [
    "### Tuples\n",
    "- A *tuple* is an ordered list of values (can be of different types)\n",
    "- Similar to arrays, but **can't be mutated!**\n",
    "- Constructed with parentheses"
   ]
  },
  {
   "cell_type": "code",
   "execution_count": 36,
   "metadata": {},
   "outputs": [
    {
     "data": {
      "text/plain": [
       "5"
      ]
     },
     "execution_count": 36,
     "metadata": {},
     "output_type": "execute_result"
    }
   ],
   "source": [
    "x = (1,)  # a single element\n",
    "x = (1, 0, [1, 2], 2.5, 4.66)  # third element is a vector\n",
    "length(x)"
   ]
  },
  {
   "cell_type": "code",
   "execution_count": 37,
   "metadata": {},
   "outputs": [
    {
     "data": {
      "text/plain": [
       "(0, 4.66, (2.5, 4.66))"
      ]
     },
     "execution_count": 37,
     "metadata": {},
     "output_type": "execute_result"
    }
   ],
   "source": [
    "x[2], x[end], x[4:end]"
   ]
  },
  {
   "cell_type": "code",
   "execution_count": 38,
   "metadata": {},
   "outputs": [
    {
     "name": "stdout",
     "output_type": "stream",
     "text": [
      "t1[1][1] = 1\n",
      "(\"Sue\", 100)\n"
     ]
    }
   ],
   "source": [
    "t1 = ((1, 2), (3, 4))  # multidimensional tuple\n",
    "println(\"t1[1][1] = \", t1[1][1])\n",
    "\n",
    "t2 = (sue=(\"Sue\", 100), paul=(\"Paul\", 23)) # named tuple\n",
    "println(t2.sue)"
   ]
  },
  {
   "cell_type": "markdown",
   "metadata": {},
   "source": [
    "### Dictionaries\n",
    "- A *dictionary* is a collection of key-value pairs\n",
    "- Key-value pairs are indicated with a double arrow operator\n",
    "- One can index into a dictionary using square brackers as arrays/tuples"
   ]
  },
  {
   "cell_type": "code",
   "execution_count": 39,
   "metadata": {},
   "outputs": [
    {
     "data": {
      "text/plain": [
       "4"
      ]
     },
     "execution_count": 39,
     "metadata": {},
     "output_type": "execute_result"
    }
   ],
   "source": [
    "x = Dict();  # empty dictionary\n",
    "x[3] = 4     # associate value 4 with key 3"
   ]
  },
  {
   "cell_type": "code",
   "execution_count": 40,
   "metadata": {},
   "outputs": [
    {
     "data": {
      "text/plain": [
       "Dict{Int64,Int64} with 2 entries:\n",
       "  3 => 4\n",
       "  5 => 1"
      ]
     },
     "execution_count": 40,
     "metadata": {},
     "output_type": "execute_result"
    }
   ],
   "source": [
    "x = Dict(3=>4, 5=>1)  # create dictionary with 2 key-value pairs"
   ]
  },
  {
   "cell_type": "code",
   "execution_count": 41,
   "metadata": {},
   "outputs": [
    {
     "name": "stdout",
     "output_type": "stream",
     "text": [
      "1\n",
      "true\n",
      "false\n"
     ]
    }
   ],
   "source": [
    "println(x[5])          # return value associated with key 5\n",
    "println(haskey(x, 3))  # check if dict has key 3\n",
    "println(haskey(x, 4))  # check if dict has key 4"
   ]
  },
  {
   "cell_type": "code",
   "execution_count": 42,
   "metadata": {},
   "outputs": [
    {
     "name": "stdout",
     "output_type": "stream",
     "text": [
      "3.14\n",
      "[\"golden\", \"e\"]\n",
      "[1.618, 2.718]\n"
     ]
    }
   ],
   "source": [
    "d1 = Dict(\"pi\"=>3.14, \"e\"=>2.718)  # new dict\n",
    "println(d1[\"pi\"])                  # print value of \"pi\" key\n",
    "d1[\"golden\"] = 1.618               # add a key-value\n",
    "delete!(d1, \"pi\")                  # delete a key-value\n",
    "println(keys(d1))                  # display all keys\n",
    "println(values(d1))                # display all keys"
   ]
  },
  {
   "cell_type": "markdown",
   "metadata": {},
   "source": [
    "### Composite types\n",
    "- A *composite type* is a collection of named fields\n",
    "- Use **struct** keyword. By default, it is immutable\n",
    "- Adding keyword **mutable** makes an instance mutable\n",
    "\n",
    "\n",
    "- Double-colon operator can be used to annotate types (any variable)\n",
    "- Annotation requires that one pass correct types for fields/variables\n",
    "- Type annotations alow runtime improvements (compiler optimization)"
   ]
  },
  {
   "cell_type": "code",
   "execution_count": 43,
   "metadata": {},
   "outputs": [
    {
     "name": "stdout",
     "output_type": "stream",
     "text": [
      "Bob Smith\n"
     ]
    },
    {
     "ename": "LoadError",
     "evalue": "setfield! immutable struct of type Customer cannot be changed",
     "output_type": "error",
     "traceback": [
      "setfield! immutable struct of type Customer cannot be changed",
      "",
      "Stacktrace:",
      " [1] setproperty!(::Customer, ::Symbol, ::String) at .\\Base.jl:34",
      " [2] top-level scope at In[43]:12",
      " [3] include_string(::Function, ::Module, ::String, ::String) at .\\loading.jl:1091"
     ]
    }
   ],
   "source": [
    "struct Customer\n",
    "    name::String\n",
    "    balance::Float32\n",
    "    id::Int\n",
    "end\n",
    "\n",
    "# Create a Customer object\n",
    "bob = Customer(\"Bob Smith\", 10.50, 123)\n",
    "println(bob.name)\n",
    "\n",
    "# Change bob name\n",
    "bob.name = \"Sue Smith\"  # ERROR!"
   ]
  },
  {
   "cell_type": "code",
   "execution_count": 44,
   "metadata": {},
   "outputs": [
    {
     "name": "stdout",
     "output_type": "stream",
     "text": [
      "Sue Smith\n"
     ]
    }
   ],
   "source": [
    "mutable struct MCustomer\n",
    "    name::String\n",
    "    balance::Float32\n",
    "    id::Int\n",
    "end\n",
    "bob = MCustomer(\"Bob Smith\", 10.50, 123)\n",
    "\n",
    "# Change bob name\n",
    "bob.name = \"Sue Smith\"\n",
    "println(bob.name)"
   ]
  },
  {
   "cell_type": "markdown",
   "metadata": {},
   "source": [
    "### Abstract Types\n",
    "- Analog to classes in object-oriented languages (but without methods)"
   ]
  },
  {
   "cell_type": "code",
   "execution_count": 45,
   "metadata": {},
   "outputs": [
    {
     "name": "stdout",
     "output_type": "stream",
     "text": [
      "AbstractFloat\n",
      "Real\n",
      "Number\n",
      "Any\n",
      "Any\n"
     ]
    }
   ],
   "source": [
    "# Float64 hierarchy\n",
    "println(supertype(Float64))\n",
    "println(supertype(AbstractFloat))\n",
    "println(supertype(Real))\n",
    "println(supertype(Number))\n",
    "println(supertype(Any))"
   ]
  },
  {
   "cell_type": "code",
   "execution_count": 46,
   "metadata": {},
   "outputs": [
    {
     "name": "stdout",
     "output_type": "stream",
     "text": [
      "Any[BigFloat, Float16, Float32, Float64]\n",
      "Type[]\n"
     ]
    }
   ],
   "source": [
    "println(subtypes(AbstractFloat))  # different types of AbstractFloats\n",
    "println(subtypes(Float64))        # Float64 doesn't have any subtypes"
   ]
  },
  {
   "cell_type": "markdown",
   "metadata": {},
   "source": [
    "We can define our own abstract types\n",
    "- They can't be instantiated like Structs, but can have subtypes"
   ]
  },
  {
   "cell_type": "code",
   "execution_count": 47,
   "metadata": {},
   "outputs": [
    {
     "name": "stdout",
     "output_type": "stream",
     "text": [
      "Bowser sound: Ruff\n",
      "Muffin sound: Meow\n"
     ]
    }
   ],
   "source": [
    "abstract type Animal end\n",
    "\n",
    "struct Dog <: Animal\n",
    "    name::String\n",
    "    bark::String\n",
    "end\n",
    "\n",
    "struct Cat <: Animal\n",
    "    name::String\n",
    "    meow::String\n",
    "end\n",
    "\n",
    "bowser = Dog(\"Bowser\", \"Ruff\")\n",
    "muffin = Cat(\"Muffin\", \"Meow\")\n",
    "\n",
    "println(bowser.name, \" sound: \", bowser.bark)\n",
    "println(muffin.name, \" sound: \", muffin.meow)"
   ]
  },
  {
   "cell_type": "markdown",
   "metadata": {},
   "source": [
    "## Functions\n",
    "A *function* is an object that maps a tuple of argument values to a return value"
   ]
  },
  {
   "cell_type": "code",
   "execution_count": 48,
   "metadata": {},
   "outputs": [
    {
     "data": {
      "text/plain": [
       "3.1415"
      ]
     },
     "execution_count": 48,
     "metadata": {},
     "output_type": "execute_result"
    }
   ],
   "source": [
    "# Functions can be named\n",
    "function f(x, y)\n",
    "    return x + y\n",
    "end\n",
    "\n",
    "f(x, y) = x + y\n",
    "f(3, 0.1415)"
   ]
  },
  {
   "cell_type": "code",
   "execution_count": 49,
   "metadata": {},
   "outputs": [
    {
     "name": "stdout",
     "output_type": "stream",
     "text": [
      "[26, 101]\n"
     ]
    }
   ],
   "source": [
    "# Or anonymous\n",
    "h = x -> x^2 + 1           # assign anonymous function to a variable\n",
    "g(f, a, b) = [f(a), f(b)]  # applies function f to a and b\n",
    "println(g(h, 5, 10))"
   ]
  },
  {
   "cell_type": "code",
   "execution_count": 50,
   "metadata": {},
   "outputs": [
    {
     "name": "stdout",
     "output_type": "stream",
     "text": [
      "[1, 4, 9]\n",
      "[4, 6]\n"
     ]
    }
   ],
   "source": [
    "# map applies a function to each item\n",
    "println(map(x -> x * x, [1, 2, 3]))\n",
    "println(map((x,y) -> x + y, [1,2], [3,4]))"
   ]
  },
  {
   "cell_type": "code",
   "execution_count": 51,
   "metadata": {},
   "outputs": [
    {
     "name": "stdout",
     "output_type": "stream",
     "text": [
      "5\n",
      "10\n",
      "10\n"
     ]
    }
   ],
   "source": [
    "# Arguments are passed by value\n",
    "v1 = 5\n",
    "function changeV1(v1); v1 = 10; end\n",
    "changeV1(v1); println(v1)\n",
    "\n",
    "# So, you can use globals inside functions\n",
    "function changeV12(); global v1 = 10; end\n",
    "changeV12(); println(v1)\n",
    "\n",
    "# or return modified parameter\n",
    "function changeV13(v1); v1 = 10; return v1; end\n",
    "v1 = changeV13(v1); println(v1)"
   ]
  },
  {
   "cell_type": "code",
   "execution_count": 52,
   "metadata": {
    "scrolled": true
   },
   "outputs": [
    {
     "name": "stdout",
     "output_type": "stream",
     "text": [
      "15\n"
     ]
    }
   ],
   "source": [
    "# Variable arguments\n",
    "function getSum(args...)\n",
    "    sum = 0\n",
    "    for a in args\n",
    "        sum += a\n",
    "    end\n",
    "    return sum\n",
    "end\n",
    "println(getSum(1,2,3,4,5))"
   ]
  },
  {
   "cell_type": "code",
   "execution_count": 53,
   "metadata": {},
   "outputs": [
    {
     "name": "stdout",
     "output_type": "stream",
     "text": [
      "(5, 6)\n"
     ]
    }
   ],
   "source": [
    "# Return multiple values\n",
    "function next2(val)\n",
    "    return val + 1, val + 2\n",
    "end\n",
    "println(next2(4))"
   ]
  },
  {
   "cell_type": "code",
   "execution_count": 54,
   "metadata": {},
   "outputs": [
    {
     "name": "stdout",
     "output_type": "stream",
     "text": [
      "18\n"
     ]
    }
   ],
   "source": [
    "# Functions that return functions\n",
    "function makeMultiplier(num)\n",
    "    return function(x); return x*num; end\n",
    "end\n",
    "\n",
    "mult3 = makeMultiplier(3)\n",
    "println(mult3(6))"
   ]
  },
  {
   "cell_type": "code",
   "execution_count": 55,
   "metadata": {},
   "outputs": [
    {
     "name": "stdout",
     "output_type": "stream",
     "text": [
      "7\n",
      "7\n"
     ]
    }
   ],
   "source": [
    "# Optional arguments can be specified setting default values\n",
    "f(x, y, z=1) = x*y + z\n",
    "println(f(3, 2, 1))\n",
    "println(f(3, 2))"
   ]
  },
  {
   "cell_type": "code",
   "execution_count": 56,
   "metadata": {},
   "outputs": [
    {
     "name": "stdout",
     "output_type": "stream",
     "text": [
      "22\n",
      "36\n",
      "10\n",
      "5\n"
     ]
    }
   ],
   "source": [
    "# Keyword arguments are defined using a semicolon\n",
    "f(x, y=10; z=2) = (x+y)*z\n",
    "\n",
    "println(f(1))          # x=1, y=10, z=2\n",
    "println(f(2, z=3))     # x=2, y=10, z=3\n",
    "println(f(2, 3))       # x=2, y=3,  z=2\n",
    "println(f(2, 3, z=1))  # x=2, y=3,  z=1"
   ]
  },
  {
   "cell_type": "code",
   "execution_count": 57,
   "metadata": {},
   "outputs": [
    {
     "name": "stdout",
     "output_type": "stream",
     "text": [
      "110.0\n"
     ]
    }
   ],
   "source": [
    "# Function arguments can also handle different data types\n",
    "function getSum2(num1::Number, num2::Number)\n",
    "    return num1 + num2\n",
    "end\n",
    "println(1, 2.0*5)  # Integer and Float arguments"
   ]
  },
  {
   "cell_type": "code",
   "execution_count": 58,
   "metadata": {},
   "outputs": [
    {
     "name": "stdout",
     "output_type": "stream",
     "text": [
      "11\n",
      "4.141500000000001\n"
     ]
    }
   ],
   "source": [
    "# Function overloading\n",
    "F(x::Int64) = x + 10\n",
    "F(x::Float64) = x + 3.1415\n",
    "\n",
    "println(F(1))\n",
    "println(F(1.0))"
   ]
  },
  {
   "cell_type": "markdown",
   "metadata": {},
   "source": [
    "## Control flow"
   ]
  },
  {
   "cell_type": "markdown",
   "metadata": {},
   "source": [
    "### Conditional Evaluation"
   ]
  },
  {
   "cell_type": "code",
   "execution_count": 59,
   "metadata": {},
   "outputs": [
    {
     "name": "stdout",
     "output_type": "stream",
     "text": [
      "You're in Middle School\n"
     ]
    }
   ],
   "source": [
    "age = 12\n",
    "if age >= 5 && age <= 6\n",
    "    println(\"You're in Kindergarten\")\n",
    "elseif age >= 7 && age <= 13\n",
    "    println(\"You're in Middle School\")\n",
    "elseif age >= 14 && age <= 18\n",
    "    println(\"You're in High School\")\n",
    "else\n",
    "    println(\"Stay Home\")\n",
    "end"
   ]
  },
  {
   "cell_type": "code",
   "execution_count": 60,
   "metadata": {},
   "outputs": [
    {
     "name": "stdout",
     "output_type": "stream",
     "text": [
      "0\n",
      "10\n"
     ]
    }
   ],
   "source": [
    "f(x) = x > 0.0 ? x : 0\n",
    "println(f(-10))\n",
    "println(f(+10))"
   ]
  },
  {
   "cell_type": "markdown",
   "metadata": {},
   "source": [
    "### Loops"
   ]
  },
  {
   "cell_type": "code",
   "execution_count": 61,
   "metadata": {},
   "outputs": [
    {
     "name": "stdout",
     "output_type": "stream",
     "text": [
      "82\n"
     ]
    }
   ],
   "source": [
    "# using while\n",
    "x = [1, 2, 3, 4, 6, 8, 11, 13, 16, 18]\n",
    "s = 0\n",
    "while x != []\n",
    "    s += pop!(x)\n",
    "end\n",
    "println(s)"
   ]
  },
  {
   "cell_type": "code",
   "execution_count": 62,
   "metadata": {},
   "outputs": [
    {
     "name": "stdout",
     "output_type": "stream",
     "text": [
      "82\n",
      "82\n"
     ]
    }
   ],
   "source": [
    "# using for\n",
    "x = [1, 2, 3, 4, 6, 8, 11, 13, 16, 18]\n",
    "s = 0\n",
    "for i = 1:length(x)\n",
    "    s += x[i]\n",
    "end\n",
    "println(s)\n",
    "\n",
    "# or\n",
    "s = 0\n",
    "for i in x\n",
    "    s += i\n",
    "end\n",
    "println(s)"
   ]
  },
  {
   "cell_type": "markdown",
   "metadata": {},
   "source": [
    "## File Input/Output"
   ]
  },
  {
   "cell_type": "code",
   "execution_count": 63,
   "metadata": {},
   "outputs": [
    {
     "name": "stdout",
     "output_type": "stream",
     "text": [
      "Here is some random text\n",
      "It is great\n",
      "\n",
      "Here is some random text\n",
      "It is great\n"
     ]
    }
   ],
   "source": [
    "# Open file for writing\n",
    "open(\"random.txt\", \"w\") do file\n",
    "    write(file, \"Here is some random text\\nIt is great\\n\")\n",
    "end\n",
    " \n",
    "# Open a file for reading\n",
    "open(\"random.txt\") do file\n",
    "    # Read whole file into a string\n",
    "    data = read(file, String)\n",
    "    println(data)\n",
    "end\n",
    " \n",
    "open(\"random.txt\") do file\n",
    "    # Read each line 1 at a time\n",
    "    for line in eachline(file)\n",
    "        println(line)\n",
    "    end\n",
    "end"
   ]
  },
  {
   "cell_type": "markdown",
   "metadata": {},
   "source": [
    "## Simple plot example"
   ]
  },
  {
   "cell_type": "code",
   "execution_count": 64,
   "metadata": {},
   "outputs": [
    {
     "data": {
      "image/svg+xml": [
       "<?xml version=\"1.0\" encoding=\"utf-8\"?>\n",
       "<svg xmlns=\"http://www.w3.org/2000/svg\" xmlns:xlink=\"http://www.w3.org/1999/xlink\" width=\"600\" height=\"400\" viewBox=\"0 0 2400 1600\">\n",
       "<defs>\n",
       "  <clipPath id=\"clip090\">\n",
       "    <rect x=\"0\" y=\"0\" width=\"2400\" height=\"1600\"/>\n",
       "  </clipPath>\n",
       "</defs>\n",
       "<path clip-path=\"url(#clip090)\" d=\"\n",
       "M0 1600 L2400 1600 L2400 0 L0 0  Z\n",
       "  \" fill=\"#ffffff\" fill-rule=\"evenodd\" fill-opacity=\"1\"/>\n",
       "<defs>\n",
       "  <clipPath id=\"clip091\">\n",
       "    <rect x=\"480\" y=\"0\" width=\"1681\" height=\"1600\"/>\n",
       "  </clipPath>\n",
       "</defs>\n",
       "<path clip-path=\"url(#clip090)\" d=\"\n",
       "M211.602 1423.18 L2352.76 1423.18 L2352.76 123.472 L211.602 123.472  Z\n",
       "  \" fill=\"#ffffff\" fill-rule=\"evenodd\" fill-opacity=\"1\"/>\n",
       "<defs>\n",
       "  <clipPath id=\"clip092\">\n",
       "    <rect x=\"211\" y=\"123\" width=\"2142\" height=\"1301\"/>\n",
       "  </clipPath>\n",
       "</defs>\n",
       "<polyline clip-path=\"url(#clip092)\" style=\"stroke:#000000; stroke-width:2; stroke-opacity:0.1; fill:none\" points=\"\n",
       "  496.641,1423.18 496.641,123.472 \n",
       "  \"/>\n",
       "<polyline clip-path=\"url(#clip092)\" style=\"stroke:#000000; stroke-width:2; stroke-opacity:0.1; fill:none\" points=\"\n",
       "  945.52,1423.18 945.52,123.472 \n",
       "  \"/>\n",
       "<polyline clip-path=\"url(#clip092)\" style=\"stroke:#000000; stroke-width:2; stroke-opacity:0.1; fill:none\" points=\"\n",
       "  1394.4,1423.18 1394.4,123.472 \n",
       "  \"/>\n",
       "<polyline clip-path=\"url(#clip092)\" style=\"stroke:#000000; stroke-width:2; stroke-opacity:0.1; fill:none\" points=\"\n",
       "  1843.28,1423.18 1843.28,123.472 \n",
       "  \"/>\n",
       "<polyline clip-path=\"url(#clip092)\" style=\"stroke:#000000; stroke-width:2; stroke-opacity:0.1; fill:none\" points=\"\n",
       "  2292.16,1423.18 2292.16,123.472 \n",
       "  \"/>\n",
       "<polyline clip-path=\"url(#clip090)\" style=\"stroke:#000000; stroke-width:4; stroke-opacity:1; fill:none\" points=\"\n",
       "  211.602,1423.18 2352.76,1423.18 \n",
       "  \"/>\n",
       "<polyline clip-path=\"url(#clip090)\" style=\"stroke:#000000; stroke-width:4; stroke-opacity:1; fill:none\" points=\"\n",
       "  496.641,1423.18 496.641,1407.58 \n",
       "  \"/>\n",
       "<polyline clip-path=\"url(#clip090)\" style=\"stroke:#000000; stroke-width:4; stroke-opacity:1; fill:none\" points=\"\n",
       "  945.52,1423.18 945.52,1407.58 \n",
       "  \"/>\n",
       "<polyline clip-path=\"url(#clip090)\" style=\"stroke:#000000; stroke-width:4; stroke-opacity:1; fill:none\" points=\"\n",
       "  1394.4,1423.18 1394.4,1407.58 \n",
       "  \"/>\n",
       "<polyline clip-path=\"url(#clip090)\" style=\"stroke:#000000; stroke-width:4; stroke-opacity:1; fill:none\" points=\"\n",
       "  1843.28,1423.18 1843.28,1407.58 \n",
       "  \"/>\n",
       "<polyline clip-path=\"url(#clip090)\" style=\"stroke:#000000; stroke-width:4; stroke-opacity:1; fill:none\" points=\"\n",
       "  2292.16,1423.18 2292.16,1407.58 \n",
       "  \"/>\n",
       "<path clip-path=\"url(#clip090)\" d=\"M 0 0 M491.293 1479.92 L507.613 1479.92 L507.613 1483.85 L485.669 1483.85 L485.669 1479.92 Q488.331 1477.16 492.914 1472.53 Q497.52 1467.88 498.701 1466.54 Q500.946 1464.01 501.826 1462.28 Q502.729 1460.52 502.729 1458.83 Q502.729 1456.07 500.784 1454.34 Q498.863 1452.6 495.761 1452.6 Q493.562 1452.6 491.108 1453.37 Q488.678 1454.13 485.9 1455.68 L485.9 1450.96 Q488.724 1449.82 491.178 1449.25 Q493.631 1448.67 495.668 1448.67 Q501.039 1448.67 504.233 1451.35 Q507.428 1454.04 507.428 1458.53 Q507.428 1460.66 506.617 1462.58 Q505.83 1464.48 503.724 1467.07 Q503.145 1467.74 500.043 1470.96 Q496.942 1474.15 491.293 1479.92 Z\" fill=\"#000000\" fill-rule=\"evenodd\" fill-opacity=\"1\" /><path clip-path=\"url(#clip090)\" d=\"M 0 0 M948.529 1453.37 L936.724 1471.81 L948.529 1471.81 L948.529 1453.37 M947.302 1449.29 L953.182 1449.29 L953.182 1471.81 L958.112 1471.81 L958.112 1475.7 L953.182 1475.7 L953.182 1483.85 L948.529 1483.85 L948.529 1475.7 L932.927 1475.7 L932.927 1471.19 L947.302 1449.29 Z\" fill=\"#000000\" fill-rule=\"evenodd\" fill-opacity=\"1\" /><path clip-path=\"url(#clip090)\" d=\"M 0 0 M1394.8 1464.71 Q1391.66 1464.71 1389.8 1466.86 Q1387.98 1469.01 1387.98 1472.76 Q1387.98 1476.49 1389.8 1478.67 Q1391.66 1480.82 1394.8 1480.82 Q1397.95 1480.82 1399.78 1478.67 Q1401.63 1476.49 1401.63 1472.76 Q1401.63 1469.01 1399.78 1466.86 Q1397.95 1464.71 1394.8 1464.71 M1404.09 1450.06 L1404.09 1454.31 Q1402.33 1453.48 1400.52 1453.04 Q1398.74 1452.6 1396.98 1452.6 Q1392.35 1452.6 1389.9 1455.73 Q1387.47 1458.85 1387.12 1465.17 Q1388.48 1463.16 1390.54 1462.09 Q1392.6 1461 1395.08 1461 Q1400.29 1461 1403.3 1464.18 Q1406.33 1467.32 1406.33 1472.76 Q1406.33 1478.09 1403.18 1481.31 Q1400.04 1484.52 1394.8 1484.52 Q1388.81 1484.52 1385.64 1479.94 Q1382.47 1475.33 1382.47 1466.61 Q1382.47 1458.41 1386.36 1453.55 Q1390.24 1448.67 1396.79 1448.67 Q1398.55 1448.67 1400.34 1449.01 Q1402.14 1449.36 1404.09 1450.06 Z\" fill=\"#000000\" fill-rule=\"evenodd\" fill-opacity=\"1\" /><path clip-path=\"url(#clip090)\" d=\"M 0 0 M1843.28 1467.44 Q1839.94 1467.44 1838.02 1469.22 Q1836.13 1471 1836.13 1474.13 Q1836.13 1477.25 1838.02 1479.04 Q1839.94 1480.82 1843.28 1480.82 Q1846.61 1480.82 1848.53 1479.04 Q1850.45 1477.23 1850.45 1474.13 Q1850.45 1471 1848.53 1469.22 Q1846.63 1467.44 1843.28 1467.44 M1838.6 1465.45 Q1835.59 1464.71 1833.9 1462.65 Q1832.24 1460.59 1832.24 1457.63 Q1832.24 1453.48 1835.18 1451.07 Q1838.14 1448.67 1843.28 1448.67 Q1848.44 1448.67 1851.38 1451.07 Q1854.32 1453.48 1854.32 1457.63 Q1854.32 1460.59 1852.63 1462.65 Q1850.96 1464.71 1847.98 1465.45 Q1851.36 1466.24 1853.23 1468.53 Q1855.13 1470.82 1855.13 1474.13 Q1855.13 1479.15 1852.05 1481.84 Q1849 1484.52 1843.28 1484.52 Q1837.56 1484.52 1834.48 1481.84 Q1831.43 1479.15 1831.43 1474.13 Q1831.43 1470.82 1833.32 1468.53 Q1835.22 1466.24 1838.6 1465.45 M1836.89 1458.06 Q1836.89 1460.75 1838.56 1462.25 Q1840.25 1463.76 1843.28 1463.76 Q1846.29 1463.76 1847.98 1462.25 Q1849.69 1460.75 1849.69 1458.06 Q1849.69 1455.38 1847.98 1453.88 Q1846.29 1452.37 1843.28 1452.37 Q1840.25 1452.37 1838.56 1453.88 Q1836.89 1455.38 1836.89 1458.06 Z\" fill=\"#000000\" fill-rule=\"evenodd\" fill-opacity=\"1\" /><path clip-path=\"url(#clip090)\" d=\"M 0 0 M2269.03 1479.92 L2276.67 1479.92 L2276.67 1453.55 L2268.36 1455.22 L2268.36 1450.96 L2276.62 1449.29 L2281.3 1449.29 L2281.3 1479.92 L2288.94 1479.92 L2288.94 1483.85 L2269.03 1483.85 L2269.03 1479.92 Z\" fill=\"#000000\" fill-rule=\"evenodd\" fill-opacity=\"1\" /><path clip-path=\"url(#clip090)\" d=\"M 0 0 M2304.01 1452.37 Q2300.4 1452.37 2298.57 1455.94 Q2296.76 1459.48 2296.76 1466.61 Q2296.76 1473.71 2298.57 1477.28 Q2300.4 1480.82 2304.01 1480.82 Q2307.64 1480.82 2309.45 1477.28 Q2311.28 1473.71 2311.28 1466.61 Q2311.28 1459.48 2309.45 1455.94 Q2307.64 1452.37 2304.01 1452.37 M2304.01 1448.67 Q2309.82 1448.67 2312.87 1453.27 Q2315.95 1457.86 2315.95 1466.61 Q2315.95 1475.33 2312.87 1479.94 Q2309.82 1484.52 2304.01 1484.52 Q2298.2 1484.52 2295.12 1479.94 Q2292.06 1475.33 2292.06 1466.61 Q2292.06 1457.86 2295.12 1453.27 Q2298.2 1448.67 2304.01 1448.67 Z\" fill=\"#000000\" fill-rule=\"evenodd\" fill-opacity=\"1\" /><path clip-path=\"url(#clip090)\" d=\"M 0 0 M1136.95 1508.52 L1146.53 1508.52 L1158.65 1540.86 L1170.84 1508.52 L1180.42 1508.52 L1180.42 1556.04 L1174.15 1556.04 L1174.15 1514.32 L1161.9 1546.91 L1155.44 1546.91 L1143.18 1514.32 L1143.18 1556.04 L1136.95 1556.04 L1136.95 1508.52 Z\" fill=\"#000000\" fill-rule=\"evenodd\" fill-opacity=\"1\" /><path clip-path=\"url(#clip090)\" d=\"M 0 0 M1201.4 1559.35 Q1198.92 1565.72 1196.56 1567.66 Q1194.21 1569.6 1190.26 1569.6 L1185.58 1569.6 L1185.58 1564.7 L1189.02 1564.7 Q1191.44 1564.7 1192.77 1563.56 Q1194.11 1562.41 1195.73 1558.14 L1196.78 1555.47 L1182.36 1520.4 L1188.57 1520.4 L1199.71 1548.28 L1210.85 1520.4 L1217.06 1520.4 L1201.4 1559.35 Z\" fill=\"#000000\" fill-rule=\"evenodd\" fill-opacity=\"1\" /><path clip-path=\"url(#clip090)\" d=\"M 0 0 M1273.55 1520.4 L1260.66 1537.74 L1274.22 1556.04 L1267.32 1556.04 L1256.94 1542.04 L1246.56 1556.04 L1239.66 1556.04 L1253.5 1537.39 L1240.83 1520.4 L1247.74 1520.4 L1257.19 1533.1 L1266.65 1520.4 L1273.55 1520.4 Z\" fill=\"#000000\" fill-rule=\"evenodd\" fill-opacity=\"1\" /><path clip-path=\"url(#clip090)\" d=\"M 0 0 M1301.09 1506.52 L1306.94 1506.52 L1306.94 1556.04 L1301.09 1556.04 L1301.09 1506.52 Z\" fill=\"#000000\" fill-rule=\"evenodd\" fill-opacity=\"1\" /><path clip-path=\"url(#clip090)\" d=\"M 0 0 M1329.29 1538.12 Q1322.19 1538.12 1319.45 1539.75 Q1316.71 1541.37 1316.71 1545.29 Q1316.71 1548.4 1318.75 1550.25 Q1320.82 1552.07 1324.35 1552.07 Q1329.22 1552.07 1332.15 1548.63 Q1335.11 1545.16 1335.11 1539.43 L1335.11 1538.12 L1329.29 1538.12 M1340.97 1535.71 L1340.97 1556.04 L1335.11 1556.04 L1335.11 1550.63 Q1333.1 1553.88 1330.11 1555.44 Q1327.12 1556.97 1322.79 1556.97 Q1317.32 1556.97 1314.07 1553.91 Q1310.86 1550.82 1310.86 1545.67 Q1310.86 1539.65 1314.87 1536.6 Q1318.91 1533.54 1326.9 1533.54 L1335.11 1533.54 L1335.11 1532.97 Q1335.11 1528.93 1332.44 1526.73 Q1329.79 1524.5 1324.99 1524.5 Q1321.93 1524.5 1319.04 1525.23 Q1316.14 1525.97 1313.47 1527.43 L1313.47 1522.02 Q1316.68 1520.78 1319.71 1520.17 Q1322.73 1519.54 1325.59 1519.54 Q1333.33 1519.54 1337.15 1523.55 Q1340.97 1527.56 1340.97 1535.71 Z\" fill=\"#000000\" fill-rule=\"evenodd\" fill-opacity=\"1\" /><path clip-path=\"url(#clip090)\" d=\"M 0 0 M1372.7 1538.25 Q1372.7 1531.79 1370.03 1528.13 Q1367.38 1524.44 1362.74 1524.44 Q1358.09 1524.44 1355.42 1528.13 Q1352.77 1531.79 1352.77 1538.25 Q1352.77 1544.71 1355.42 1548.4 Q1358.09 1552.07 1362.74 1552.07 Q1367.38 1552.07 1370.03 1548.4 Q1372.7 1544.71 1372.7 1538.25 M1352.77 1525.81 Q1354.62 1522.62 1357.42 1521.1 Q1360.25 1519.54 1364.17 1519.54 Q1370.66 1519.54 1374.7 1524.69 Q1378.78 1529.85 1378.78 1538.25 Q1378.78 1546.65 1374.7 1551.81 Q1370.66 1556.97 1364.17 1556.97 Q1360.25 1556.97 1357.42 1555.44 Q1354.62 1553.88 1352.77 1550.7 L1352.77 1556.04 L1346.89 1556.04 L1346.89 1506.52 L1352.77 1506.52 L1352.77 1525.81 Z\" fill=\"#000000\" fill-rule=\"evenodd\" fill-opacity=\"1\" /><path clip-path=\"url(#clip090)\" d=\"M 0 0 M1415.41 1536.76 L1415.41 1539.62 L1388.49 1539.62 Q1388.87 1545.67 1392.11 1548.85 Q1395.39 1552 1401.22 1552 Q1404.59 1552 1407.74 1551.17 Q1410.93 1550.35 1414.04 1548.69 L1414.04 1554.23 Q1410.89 1555.57 1407.58 1556.27 Q1404.27 1556.97 1400.87 1556.97 Q1392.34 1556.97 1387.34 1552 Q1382.38 1547.04 1382.38 1538.57 Q1382.38 1529.82 1387.09 1524.69 Q1391.83 1519.54 1399.85 1519.54 Q1407.04 1519.54 1411.21 1524.18 Q1415.41 1528.8 1415.41 1536.76 M1409.56 1535.04 Q1409.49 1530.23 1406.85 1527.37 Q1404.24 1524.5 1399.91 1524.5 Q1395.01 1524.5 1392.05 1527.27 Q1389.12 1530.04 1388.68 1535.07 L1409.56 1535.04 Z\" fill=\"#000000\" fill-rule=\"evenodd\" fill-opacity=\"1\" /><path clip-path=\"url(#clip090)\" d=\"M 0 0 M1421.56 1506.52 L1427.41 1506.52 L1427.41 1556.04 L1421.56 1556.04 L1421.56 1506.52 Z\" fill=\"#000000\" fill-rule=\"evenodd\" fill-opacity=\"1\" /><polyline clip-path=\"url(#clip092)\" style=\"stroke:#000000; stroke-width:2; stroke-opacity:0.1; fill:none\" points=\"\n",
       "  211.602,1183.45 2352.76,1183.45 \n",
       "  \"/>\n",
       "<polyline clip-path=\"url(#clip092)\" style=\"stroke:#000000; stroke-width:2; stroke-opacity:0.1; fill:none\" points=\"\n",
       "  211.602,904.442 2352.76,904.442 \n",
       "  \"/>\n",
       "<polyline clip-path=\"url(#clip092)\" style=\"stroke:#000000; stroke-width:2; stroke-opacity:0.1; fill:none\" points=\"\n",
       "  211.602,625.438 2352.76,625.438 \n",
       "  \"/>\n",
       "<polyline clip-path=\"url(#clip092)\" style=\"stroke:#000000; stroke-width:2; stroke-opacity:0.1; fill:none\" points=\"\n",
       "  211.602,346.433 2352.76,346.433 \n",
       "  \"/>\n",
       "<polyline clip-path=\"url(#clip090)\" style=\"stroke:#000000; stroke-width:4; stroke-opacity:1; fill:none\" points=\"\n",
       "  211.602,1423.18 211.602,123.472 \n",
       "  \"/>\n",
       "<polyline clip-path=\"url(#clip090)\" style=\"stroke:#000000; stroke-width:4; stroke-opacity:1; fill:none\" points=\"\n",
       "  211.602,1183.45 237.296,1183.45 \n",
       "  \"/>\n",
       "<polyline clip-path=\"url(#clip090)\" style=\"stroke:#000000; stroke-width:4; stroke-opacity:1; fill:none\" points=\"\n",
       "  211.602,904.442 237.296,904.442 \n",
       "  \"/>\n",
       "<polyline clip-path=\"url(#clip090)\" style=\"stroke:#000000; stroke-width:4; stroke-opacity:1; fill:none\" points=\"\n",
       "  211.602,625.438 237.296,625.438 \n",
       "  \"/>\n",
       "<polyline clip-path=\"url(#clip090)\" style=\"stroke:#000000; stroke-width:4; stroke-opacity:1; fill:none\" points=\"\n",
       "  211.602,346.433 237.296,346.433 \n",
       "  \"/>\n",
       "<path clip-path=\"url(#clip090)\" d=\"M 0 0 M128.288 1169.24 Q124.677 1169.24 122.848 1172.81 Q121.043 1176.35 121.043 1183.48 Q121.043 1190.59 122.848 1194.15 Q124.677 1197.69 128.288 1197.69 Q131.922 1197.69 133.728 1194.15 Q135.556 1190.59 135.556 1183.48 Q135.556 1176.35 133.728 1172.81 Q131.922 1169.24 128.288 1169.24 M128.288 1165.54 Q134.098 1165.54 137.154 1170.15 Q140.232 1174.73 140.232 1183.48 Q140.232 1192.21 137.154 1196.81 Q134.098 1201.4 128.288 1201.4 Q122.478 1201.4 119.399 1196.81 Q116.343 1192.21 116.343 1183.48 Q116.343 1174.73 119.399 1170.15 Q122.478 1165.54 128.288 1165.54 Z\" fill=\"#000000\" fill-rule=\"evenodd\" fill-opacity=\"1\" /><path clip-path=\"url(#clip090)\" d=\"M 0 0 M145.302 1194.85 L150.186 1194.85 L150.186 1200.73 L145.302 1200.73 L145.302 1194.85 Z\" fill=\"#000000\" fill-rule=\"evenodd\" fill-opacity=\"1\" /><path clip-path=\"url(#clip090)\" d=\"M 0 0 M159.283 1196.79 L175.602 1196.79 L175.602 1200.73 L153.658 1200.73 L153.658 1196.79 Q156.32 1194.04 160.903 1189.41 Q165.51 1184.75 166.69 1183.41 Q168.936 1180.89 169.815 1179.15 Q170.718 1177.39 170.718 1175.7 Q170.718 1172.95 168.774 1171.21 Q166.852 1169.48 163.751 1169.48 Q161.552 1169.48 159.098 1170.24 Q156.667 1171 153.89 1172.55 L153.89 1167.83 Q156.714 1166.7 159.167 1166.12 Q161.621 1165.54 163.658 1165.54 Q169.028 1165.54 172.223 1168.23 Q175.417 1170.91 175.417 1175.4 Q175.417 1177.53 174.607 1179.45 Q173.82 1181.35 171.714 1183.94 Q171.135 1184.62 168.033 1187.83 Q164.931 1191.03 159.283 1196.79 Z\" fill=\"#000000\" fill-rule=\"evenodd\" fill-opacity=\"1\" /><path clip-path=\"url(#clip090)\" d=\"M 0 0 M126.205 890.241 Q122.593 890.241 120.765 893.805 Q118.959 897.347 118.959 904.477 Q118.959 911.583 120.765 915.148 Q122.593 918.689 126.205 918.689 Q129.839 918.689 131.644 915.148 Q133.473 911.583 133.473 904.477 Q133.473 897.347 131.644 893.805 Q129.839 890.241 126.205 890.241 M126.205 886.537 Q132.015 886.537 135.07 891.143 Q138.149 895.727 138.149 904.477 Q138.149 913.203 135.07 917.81 Q132.015 922.393 126.205 922.393 Q120.394 922.393 117.316 917.81 Q114.26 913.203 114.26 904.477 Q114.26 895.727 117.316 891.143 Q120.394 886.537 126.205 886.537 Z\" fill=\"#000000\" fill-rule=\"evenodd\" fill-opacity=\"1\" /><path clip-path=\"url(#clip090)\" d=\"M 0 0 M143.218 915.842 L148.103 915.842 L148.103 921.722 L143.218 921.722 L143.218 915.842 Z\" fill=\"#000000\" fill-rule=\"evenodd\" fill-opacity=\"1\" /><path clip-path=\"url(#clip090)\" d=\"M 0 0 M166.019 891.236 L154.214 909.685 L166.019 909.685 L166.019 891.236 M164.792 887.162 L170.672 887.162 L170.672 909.685 L175.602 909.685 L175.602 913.574 L170.672 913.574 L170.672 921.722 L166.019 921.722 L166.019 913.574 L150.417 913.574 L150.417 909.06 L164.792 887.162 Z\" fill=\"#000000\" fill-rule=\"evenodd\" fill-opacity=\"1\" /><path clip-path=\"url(#clip090)\" d=\"M 0 0 M126.529 611.236 Q122.918 611.236 121.089 614.801 Q119.283 618.343 119.283 625.472 Q119.283 632.579 121.089 636.144 Q122.918 639.685 126.529 639.685 Q130.163 639.685 131.968 636.144 Q133.797 632.579 133.797 625.472 Q133.797 618.343 131.968 614.801 Q130.163 611.236 126.529 611.236 M126.529 607.533 Q132.339 607.533 135.394 612.139 Q138.473 616.722 138.473 625.472 Q138.473 634.199 135.394 638.806 Q132.339 643.389 126.529 643.389 Q120.718 643.389 117.64 638.806 Q114.584 634.199 114.584 625.472 Q114.584 616.722 117.64 612.139 Q120.718 607.533 126.529 607.533 Z\" fill=\"#000000\" fill-rule=\"evenodd\" fill-opacity=\"1\" /><path clip-path=\"url(#clip090)\" d=\"M 0 0 M143.542 636.838 L148.427 636.838 L148.427 642.718 L143.542 642.718 L143.542 636.838 Z\" fill=\"#000000\" fill-rule=\"evenodd\" fill-opacity=\"1\" /><path clip-path=\"url(#clip090)\" d=\"M 0 0 M164.075 623.574 Q160.927 623.574 159.075 625.727 Q157.246 627.88 157.246 631.63 Q157.246 635.356 159.075 637.532 Q160.927 639.685 164.075 639.685 Q167.223 639.685 169.052 637.532 Q170.903 635.356 170.903 631.63 Q170.903 627.88 169.052 625.727 Q167.223 623.574 164.075 623.574 M173.357 608.921 L173.357 613.181 Q171.598 612.347 169.792 611.908 Q168.01 611.468 166.251 611.468 Q161.621 611.468 159.167 614.593 Q156.737 617.718 156.39 624.037 Q157.755 622.023 159.815 620.958 Q161.876 619.87 164.352 619.87 Q169.561 619.87 172.57 623.042 Q175.602 626.19 175.602 631.63 Q175.602 636.954 172.454 640.171 Q169.306 643.389 164.075 643.389 Q158.079 643.389 154.908 638.806 Q151.737 634.199 151.737 625.472 Q151.737 617.278 155.626 612.417 Q159.515 607.533 166.065 607.533 Q167.825 607.533 169.607 607.88 Q171.413 608.227 173.357 608.921 Z\" fill=\"#000000\" fill-rule=\"evenodd\" fill-opacity=\"1\" /><path clip-path=\"url(#clip090)\" d=\"M 0 0 M126.783 332.232 Q123.172 332.232 121.343 335.797 Q119.538 339.338 119.538 346.468 Q119.538 353.574 121.343 357.139 Q123.172 360.681 126.783 360.681 Q130.417 360.681 132.223 357.139 Q134.052 353.574 134.052 346.468 Q134.052 339.338 132.223 335.797 Q130.417 332.232 126.783 332.232 M126.783 328.528 Q132.593 328.528 135.649 333.135 Q138.728 337.718 138.728 346.468 Q138.728 355.195 135.649 359.801 Q132.593 364.385 126.783 364.385 Q120.973 364.385 117.894 359.801 Q114.839 355.195 114.839 346.468 Q114.839 337.718 117.894 333.135 Q120.973 328.528 126.783 328.528 Z\" fill=\"#000000\" fill-rule=\"evenodd\" fill-opacity=\"1\" /><path clip-path=\"url(#clip090)\" d=\"M 0 0 M143.797 357.834 L148.681 357.834 L148.681 363.713 L143.797 363.713 L143.797 357.834 Z\" fill=\"#000000\" fill-rule=\"evenodd\" fill-opacity=\"1\" /><path clip-path=\"url(#clip090)\" d=\"M 0 0 M163.751 347.301 Q160.417 347.301 158.496 349.084 Q156.598 350.866 156.598 353.991 Q156.598 357.116 158.496 358.898 Q160.417 360.681 163.751 360.681 Q167.084 360.681 169.005 358.898 Q170.927 357.093 170.927 353.991 Q170.927 350.866 169.005 349.084 Q167.107 347.301 163.751 347.301 M159.075 345.311 Q156.065 344.57 154.376 342.51 Q152.709 340.45 152.709 337.487 Q152.709 333.343 155.649 330.936 Q158.612 328.528 163.751 328.528 Q168.913 328.528 171.852 330.936 Q174.792 333.343 174.792 337.487 Q174.792 340.45 173.102 342.51 Q171.436 344.57 168.45 345.311 Q171.829 346.098 173.704 348.389 Q175.602 350.681 175.602 353.991 Q175.602 359.014 172.524 361.699 Q169.468 364.385 163.751 364.385 Q158.033 364.385 154.954 361.699 Q151.899 359.014 151.899 353.991 Q151.899 350.681 153.797 348.389 Q155.695 346.098 159.075 345.311 M157.362 337.926 Q157.362 340.612 159.028 342.116 Q160.718 343.621 163.751 343.621 Q166.76 343.621 168.45 342.116 Q170.163 340.612 170.163 337.926 Q170.163 335.241 168.45 333.737 Q166.76 332.232 163.751 332.232 Q160.718 332.232 159.028 333.737 Q157.362 335.241 157.362 337.926 Z\" fill=\"#000000\" fill-rule=\"evenodd\" fill-opacity=\"1\" /><path clip-path=\"url(#clip090)\" d=\"M 0 0 M40.4842 918.655 L40.4842 909.075 L72.8219 896.948 L40.4842 884.758 L40.4842 875.177 L88.0042 875.177 L88.0042 881.448 L46.277 881.448 L78.8694 893.701 L78.8694 900.163 L46.277 912.417 L88.0042 912.417 L88.0042 918.655 L40.4842 918.655 Z\" fill=\"#000000\" fill-rule=\"evenodd\" fill-opacity=\"1\" /><path clip-path=\"url(#clip090)\" d=\"M 0 0 M91.3143 854.202 Q97.68 856.685 99.6216 859.04 Q101.563 861.396 101.563 865.342 L101.563 870.021 L96.6615 870.021 L96.6615 866.584 Q96.6615 864.165 95.5157 862.828 Q94.3699 861.491 90.1048 859.868 L87.4312 858.817 L52.3562 873.236 L52.3562 867.029 L80.238 855.889 L52.3562 844.749 L52.3562 838.543 L91.3143 854.202 Z\" fill=\"#000000\" fill-rule=\"evenodd\" fill-opacity=\"1\" /><path clip-path=\"url(#clip090)\" d=\"M 0 0 M91.3143 796.847 Q97.68 799.33 99.6216 801.685 Q101.563 804.041 101.563 807.987 L101.563 812.666 L96.6615 812.666 L96.6615 809.229 Q96.6615 806.81 95.5157 805.473 Q94.3699 804.136 90.1048 802.513 L87.4312 801.462 L52.3562 815.881 L52.3562 809.674 L80.238 798.534 L52.3562 787.394 L52.3562 781.188 L91.3143 796.847 Z\" fill=\"#000000\" fill-rule=\"evenodd\" fill-opacity=\"1\" /><path clip-path=\"url(#clip090)\" d=\"M 0 0 M38.479 754.324 L38.479 748.468 L88.0042 748.468 L88.0042 754.324 L38.479 754.324 Z\" fill=\"#000000\" fill-rule=\"evenodd\" fill-opacity=\"1\" /><path clip-path=\"url(#clip090)\" d=\"M 0 0 M70.0847 726.124 Q70.0847 733.222 71.7079 735.959 Q73.3312 738.697 77.2461 738.697 Q80.3653 738.697 82.2114 736.66 Q84.0256 734.591 84.0256 731.058 Q84.0256 726.188 80.5881 723.26 Q77.1188 720.3 71.3897 720.3 L70.0847 720.3 L70.0847 726.124 M67.6657 714.443 L88.0042 714.443 L88.0042 720.3 L82.5933 720.3 Q85.8398 722.305 87.3994 725.297 Q88.9272 728.289 88.9272 732.617 Q88.9272 738.092 85.8716 741.338 Q82.7843 744.553 77.6281 744.553 Q71.6125 744.553 68.5569 740.543 Q65.5014 736.5 65.5014 728.511 L65.5014 720.3 L64.9285 720.3 Q60.8862 720.3 58.6901 722.973 Q56.4621 725.615 56.4621 730.421 Q56.4621 733.477 57.1941 736.373 Q57.9262 739.269 59.3903 741.943 L53.9795 741.943 Q52.7381 738.728 52.1334 735.705 Q51.4968 732.681 51.4968 729.816 Q51.4968 722.082 55.5072 718.263 Q59.5176 714.443 67.6657 714.443 Z\" fill=\"#000000\" fill-rule=\"evenodd\" fill-opacity=\"1\" /><path clip-path=\"url(#clip090)\" d=\"M 0 0 M70.212 682.71 Q63.7508 682.71 60.0905 685.384 Q56.3984 688.026 56.3984 692.672 Q56.3984 697.319 60.0905 699.993 Q63.7508 702.635 70.212 702.635 Q76.6732 702.635 80.3653 699.993 Q84.0256 697.319 84.0256 692.672 Q84.0256 688.026 80.3653 685.384 Q76.6732 682.71 70.212 682.71 M57.7671 702.635 Q54.5842 700.789 53.0564 697.988 Q51.4968 695.155 51.4968 691.24 Q51.4968 684.747 56.6531 680.705 Q61.8093 676.631 70.212 676.631 Q78.6147 676.631 83.771 680.705 Q88.9272 684.747 88.9272 691.24 Q88.9272 695.155 87.3994 697.988 Q85.8398 700.789 82.657 702.635 L88.0042 702.635 L88.0042 708.523 L38.479 708.523 L38.479 702.635 L57.7671 702.635 Z\" fill=\"#000000\" fill-rule=\"evenodd\" fill-opacity=\"1\" /><path clip-path=\"url(#clip090)\" d=\"M 0 0 M68.7161 639.996 L71.5806 639.996 L71.5806 666.923 Q77.6281 666.541 80.8109 663.295 Q83.9619 660.016 83.9619 654.192 Q83.9619 650.818 83.1344 647.667 Q82.3069 644.484 80.6518 641.365 L86.1899 641.365 Q87.5267 644.516 88.227 647.826 Q88.9272 651.136 88.9272 654.542 Q88.9272 663.072 83.9619 668.069 Q78.9967 673.034 70.5303 673.034 Q61.7774 673.034 56.6531 668.324 Q51.4968 663.581 51.4968 655.56 Q51.4968 648.367 56.1438 644.198 Q60.7589 639.996 68.7161 639.996 M66.9973 645.853 Q62.1912 645.916 59.3266 648.558 Q56.4621 651.168 56.4621 655.497 Q56.4621 660.398 59.2312 663.358 Q62.0002 666.287 67.0292 666.732 L66.9973 645.853 Z\" fill=\"#000000\" fill-rule=\"evenodd\" fill-opacity=\"1\" /><path clip-path=\"url(#clip090)\" d=\"M 0 0 M38.479 633.853 L38.479 627.997 L88.0042 627.997 L88.0042 633.853 L38.479 633.853 Z\" fill=\"#000000\" fill-rule=\"evenodd\" fill-opacity=\"1\" /><path clip-path=\"url(#clip090)\" d=\"M 0 0 M1098.79 12.096 L1149.96 12.096 L1149.96 18.9825 L1128.49 18.9825 L1128.49 72.576 L1120.26 72.576 L1120.26 18.9825 L1098.79 18.9825 L1098.79 12.096 Z\" fill=\"#000000\" fill-rule=\"evenodd\" fill-opacity=\"1\" /><path clip-path=\"url(#clip090)\" d=\"M 0 0 M1139.71 27.2059 L1147.16 27.2059 L1156.48 62.6108 L1165.76 27.2059 L1174.55 27.2059 L1183.86 62.6108 L1193.14 27.2059 L1200.59 27.2059 L1188.72 72.576 L1179.93 72.576 L1170.17 35.3887 L1160.37 72.576 L1151.58 72.576 L1139.71 27.2059 Z\" fill=\"#000000\" fill-rule=\"evenodd\" fill-opacity=\"1\" /><path clip-path=\"url(#clip090)\" d=\"M 0 0 M1225.99 32.4315 Q1220 32.4315 1216.51 37.1306 Q1213.03 41.7891 1213.03 49.9314 Q1213.03 58.0738 1216.47 62.7728 Q1219.96 67.4314 1225.99 67.4314 Q1231.95 67.4314 1235.43 62.7323 Q1238.92 58.0333 1238.92 49.9314 Q1238.92 41.8701 1235.43 37.1711 Q1231.95 32.4315 1225.99 32.4315 M1225.99 26.1121 Q1235.72 26.1121 1241.27 32.4315 Q1246.81 38.7509 1246.81 49.9314 Q1246.81 61.0714 1241.27 67.4314 Q1235.72 73.7508 1225.99 73.7508 Q1216.23 73.7508 1210.68 67.4314 Q1205.17 61.0714 1205.17 49.9314 Q1205.17 38.7509 1210.68 32.4315 Q1216.23 26.1121 1225.99 26.1121 Z\" fill=\"#000000\" fill-rule=\"evenodd\" fill-opacity=\"1\" /><path clip-path=\"url(#clip090)\" d=\"M 0 0 M1281.33 12.096 L1289.51 12.096 L1289.51 65.6895 L1318.96 65.6895 L1318.96 72.576 L1281.33 72.576 L1281.33 12.096 Z\" fill=\"#000000\" fill-rule=\"evenodd\" fill-opacity=\"1\" /><path clip-path=\"url(#clip090)\" d=\"M 0 0 M1326.78 27.2059 L1334.23 27.2059 L1334.23 72.576 L1326.78 72.576 L1326.78 27.2059 M1326.78 9.54393 L1334.23 9.54393 L1334.23 18.9825 L1326.78 18.9825 L1326.78 9.54393 Z\" fill=\"#000000\" fill-rule=\"evenodd\" fill-opacity=\"1\" /><path clip-path=\"url(#clip090)\" d=\"M 0 0 M1379.77 45.1919 L1379.77 72.576 L1372.31 72.576 L1372.31 45.4349 Q1372.31 38.994 1369.8 35.7938 Q1367.29 32.5936 1362.27 32.5936 Q1356.23 32.5936 1352.75 36.4419 Q1349.26 40.2903 1349.26 46.9338 L1349.26 72.576 L1341.77 72.576 L1341.77 27.2059 L1349.26 27.2059 L1349.26 34.2544 Q1351.94 30.163 1355.54 28.1376 Q1359.19 26.1121 1363.93 26.1121 Q1371.74 26.1121 1375.76 30.9732 Q1379.77 35.7938 1379.77 45.1919 Z\" fill=\"#000000\" fill-rule=\"evenodd\" fill-opacity=\"1\" /><path clip-path=\"url(#clip090)\" d=\"M 0 0 M1426.39 48.0275 L1426.39 51.6733 L1392.12 51.6733 Q1392.61 59.3701 1396.74 63.421 Q1400.91 67.4314 1408.32 67.4314 Q1412.62 67.4314 1416.63 66.3781 Q1420.68 65.3249 1424.65 63.2184 L1424.65 70.267 Q1420.64 71.9684 1416.43 72.8596 Q1412.21 73.7508 1407.88 73.7508 Q1397.02 73.7508 1390.66 67.4314 Q1384.34 61.1119 1384.34 50.3365 Q1384.34 39.1965 1390.34 32.6746 Q1396.37 26.1121 1406.58 26.1121 Q1415.74 26.1121 1421.04 32.0264 Q1426.39 37.9003 1426.39 48.0275 M1418.94 45.84 Q1418.86 39.7232 1415.49 36.0774 Q1412.17 32.4315 1406.66 32.4315 Q1400.43 32.4315 1396.66 35.9558 Q1392.93 39.4801 1392.36 45.8805 L1418.94 45.84 Z\" fill=\"#000000\" fill-rule=\"evenodd\" fill-opacity=\"1\" /><path clip-path=\"url(#clip090)\" d=\"M 0 0 M1463.13 28.5427 L1463.13 35.5912 Q1459.97 33.9709 1456.57 33.1607 Q1453.17 32.3505 1449.52 32.3505 Q1443.97 32.3505 1441.18 34.0519 Q1438.42 35.7533 1438.42 39.156 Q1438.42 41.7486 1440.41 43.2475 Q1442.39 44.7058 1448.39 46.0426 L1450.94 46.6097 Q1458.88 48.3111 1462.2 51.4303 Q1465.56 54.509 1465.56 60.0587 Q1465.56 66.3781 1460.54 70.0644 Q1455.56 73.7508 1446.81 73.7508 Q1443.16 73.7508 1439.19 73.0216 Q1435.26 72.3329 1430.89 70.9151 L1430.89 63.2184 Q1435.02 65.3654 1439.03 66.4591 Q1443.04 67.5124 1446.97 67.5124 Q1452.24 67.5124 1455.07 65.73 Q1457.91 63.9071 1457.91 60.6258 Q1457.91 57.5877 1455.84 55.9673 Q1453.82 54.3469 1446.89 52.8481 L1444.3 52.2405 Q1437.37 50.7821 1434.29 47.7845 Q1431.21 44.7463 1431.21 39.4801 Q1431.21 33.0797 1435.75 29.5959 Q1440.29 26.1121 1448.63 26.1121 Q1452.76 26.1121 1456.41 26.7198 Q1460.05 27.3274 1463.13 28.5427 Z\" fill=\"#000000\" fill-rule=\"evenodd\" fill-opacity=\"1\" /><polyline clip-path=\"url(#clip092)\" style=\"stroke:#009af9; stroke-width:12; stroke-opacity:1; fill:none\" points=\"\n",
       "  272.201,1138.22 496.641,1386.4 721.08,1356.86 945.52,1268.37 1169.96,772.509 1394.4,1046.16 1618.84,1256.02 1843.28,641.828 2067.72,803.598 2292.16,212.85 \n",
       "  \n",
       "  \"/>\n",
       "<polyline clip-path=\"url(#clip092)\" style=\"stroke:#e26f46; stroke-width:12; stroke-opacity:1; fill:none\" points=\"\n",
       "  272.201,199.111 496.641,160.758 721.08,1173.57 945.52,382.88 1169.96,837.673 1394.4,1131.73 1618.84,1133.44 1843.28,377.984 2067.72,160.256 2292.16,498.429 \n",
       "  \n",
       "  \"/>\n",
       "<path clip-path=\"url(#clip090)\" d=\"\n",
       "M1919.73 348.236 L2281.38 348.236 L2281.38 166.796 L1919.73 166.796  Z\n",
       "  \" fill=\"#ffffff\" fill-rule=\"evenodd\" fill-opacity=\"1\"/>\n",
       "<polyline clip-path=\"url(#clip090)\" style=\"stroke:#000000; stroke-width:4; stroke-opacity:1; fill:none\" points=\"\n",
       "  1919.73,348.236 2281.38,348.236 2281.38,166.796 1919.73,166.796 1919.73,348.236 \n",
       "  \"/>\n",
       "<polyline clip-path=\"url(#clip090)\" style=\"stroke:#009af9; stroke-width:4; stroke-opacity:1; fill:none\" points=\"\n",
       "  1943.52,227.276 2086.26,227.276 \n",
       "  \"/>\n",
       "<path clip-path=\"url(#clip090)\" d=\"M 0 0 M2110.05 209.996 L2114.73 209.996 L2114.73 240.621 L2131.56 240.621 L2131.56 244.556 L2110.05 244.556 L2110.05 209.996 Z\" fill=\"#000000\" fill-rule=\"evenodd\" fill-opacity=\"1\" /><path clip-path=\"url(#clip090)\" d=\"M 0 0 M2136.03 218.63 L2140.28 218.63 L2140.28 244.556 L2136.03 244.556 L2136.03 218.63 M2136.03 208.537 L2140.28 208.537 L2140.28 213.931 L2136.03 213.931 L2136.03 208.537 Z\" fill=\"#000000\" fill-rule=\"evenodd\" fill-opacity=\"1\" /><path clip-path=\"url(#clip090)\" d=\"M 0 0 M2166.3 228.908 L2166.3 244.556 L2162.04 244.556 L2162.04 229.047 Q2162.04 225.366 2160.61 223.537 Q2159.17 221.709 2156.3 221.709 Q2152.85 221.709 2150.86 223.908 Q2148.87 226.107 2148.87 229.903 L2148.87 244.556 L2144.59 244.556 L2144.59 218.63 L2148.87 218.63 L2148.87 222.658 Q2150.4 220.32 2152.46 219.162 Q2154.54 218.005 2157.25 218.005 Q2161.72 218.005 2164.01 220.783 Q2166.3 223.537 2166.3 228.908 Z\" fill=\"#000000\" fill-rule=\"evenodd\" fill-opacity=\"1\" /><path clip-path=\"url(#clip090)\" d=\"M 0 0 M2192.95 230.528 L2192.95 232.611 L2173.36 232.611 Q2173.64 237.009 2176 239.324 Q2178.39 241.616 2182.62 241.616 Q2185.08 241.616 2187.37 241.014 Q2189.68 240.412 2191.95 239.209 L2191.95 243.236 Q2189.66 244.208 2187.25 244.718 Q2184.84 245.227 2182.37 245.227 Q2176.16 245.227 2172.53 241.616 Q2168.92 238.005 2168.92 231.847 Q2168.92 225.482 2172.34 221.755 Q2175.79 218.005 2181.63 218.005 Q2186.86 218.005 2189.89 221.385 Q2192.95 224.741 2192.95 230.528 M2188.69 229.278 Q2188.64 225.783 2186.72 223.699 Q2184.82 221.616 2181.67 221.616 Q2178.11 221.616 2175.96 223.63 Q2173.83 225.644 2173.5 229.301 L2188.69 229.278 Z\" fill=\"#000000\" fill-rule=\"evenodd\" fill-opacity=\"1\" /><path clip-path=\"url(#clip090)\" d=\"M 0 0 M2213.9 240.621 L2221.53 240.621 L2221.53 214.255 L2213.22 215.922 L2213.22 211.662 L2221.49 209.996 L2226.16 209.996 L2226.16 240.621 L2233.8 240.621 L2233.8 244.556 L2213.9 244.556 L2213.9 240.621 Z\" fill=\"#000000\" fill-rule=\"evenodd\" fill-opacity=\"1\" /><polyline clip-path=\"url(#clip090)\" style=\"stroke:#e26f46; stroke-width:4; stroke-opacity:1; fill:none\" points=\"\n",
       "  1943.52,287.756 2086.26,287.756 \n",
       "  \"/>\n",
       "<path clip-path=\"url(#clip090)\" d=\"M 0 0 M2110.05 270.476 L2114.73 270.476 L2114.73 301.101 L2131.56 301.101 L2131.56 305.036 L2110.05 305.036 L2110.05 270.476 Z\" fill=\"#000000\" fill-rule=\"evenodd\" fill-opacity=\"1\" /><path clip-path=\"url(#clip090)\" d=\"M 0 0 M2136.03 279.11 L2140.28 279.11 L2140.28 305.036 L2136.03 305.036 L2136.03 279.11 M2136.03 269.017 L2140.28 269.017 L2140.28 274.411 L2136.03 274.411 L2136.03 269.017 Z\" fill=\"#000000\" fill-rule=\"evenodd\" fill-opacity=\"1\" /><path clip-path=\"url(#clip090)\" d=\"M 0 0 M2166.3 289.388 L2166.3 305.036 L2162.04 305.036 L2162.04 289.527 Q2162.04 285.846 2160.61 284.017 Q2159.17 282.189 2156.3 282.189 Q2152.85 282.189 2150.86 284.388 Q2148.87 286.587 2148.87 290.383 L2148.87 305.036 L2144.59 305.036 L2144.59 279.11 L2148.87 279.11 L2148.87 283.138 Q2150.4 280.8 2152.46 279.642 Q2154.54 278.485 2157.25 278.485 Q2161.72 278.485 2164.01 281.263 Q2166.3 284.017 2166.3 289.388 Z\" fill=\"#000000\" fill-rule=\"evenodd\" fill-opacity=\"1\" /><path clip-path=\"url(#clip090)\" d=\"M 0 0 M2192.95 291.008 L2192.95 293.091 L2173.36 293.091 Q2173.64 297.489 2176 299.804 Q2178.39 302.096 2182.62 302.096 Q2185.08 302.096 2187.37 301.494 Q2189.68 300.892 2191.95 299.689 L2191.95 303.716 Q2189.66 304.688 2187.25 305.198 Q2184.84 305.707 2182.37 305.707 Q2176.16 305.707 2172.53 302.096 Q2168.92 298.485 2168.92 292.327 Q2168.92 285.962 2172.34 282.235 Q2175.79 278.485 2181.63 278.485 Q2186.86 278.485 2189.89 281.865 Q2192.95 285.221 2192.95 291.008 M2188.69 289.758 Q2188.64 286.263 2186.72 284.179 Q2184.82 282.096 2181.67 282.096 Q2178.11 282.096 2175.96 284.11 Q2173.83 286.124 2173.5 289.781 L2188.69 289.758 Z\" fill=\"#000000\" fill-rule=\"evenodd\" fill-opacity=\"1\" /><path clip-path=\"url(#clip090)\" d=\"M 0 0 M2217.11 301.101 L2233.43 301.101 L2233.43 305.036 L2211.49 305.036 L2211.49 301.101 Q2214.15 298.346 2218.73 293.716 Q2223.34 289.064 2224.52 287.721 Q2226.77 285.198 2227.65 283.462 Q2228.55 281.703 2228.55 280.013 Q2228.55 277.258 2226.6 275.522 Q2224.68 273.786 2221.58 273.786 Q2219.38 273.786 2216.93 274.55 Q2214.5 275.314 2211.72 276.865 L2211.72 272.142 Q2214.54 271.008 2217 270.429 Q2219.45 269.851 2221.49 269.851 Q2226.86 269.851 2230.05 272.536 Q2233.25 275.221 2233.25 279.712 Q2233.25 281.841 2232.44 283.763 Q2231.65 285.661 2229.54 288.253 Q2228.96 288.925 2225.86 292.142 Q2222.76 295.337 2217.11 301.101 Z\" fill=\"#000000\" fill-rule=\"evenodd\" fill-opacity=\"1\" /></svg>\n"
      ]
     },
     "execution_count": 64,
     "metadata": {},
     "output_type": "execute_result"
    }
   ],
   "source": [
    "using Plots\n",
    "x = 1:10; y = rand(10, 2) # 2 columns means two lines\n",
    "plot(x, y, title = \"Two Lines\", label = [\"Line 1\" \"Line 2\"], lw = 3)\n",
    "xlabel!(\"My x label\"); ylabel!(\"My y label\")"
   ]
  }
 ],
 "metadata": {
  "kernelspec": {
   "display_name": "Julia 1.5.3",
   "language": "julia",
   "name": "julia-1.5"
  },
  "language_info": {
   "file_extension": ".jl",
   "mimetype": "application/julia",
   "name": "julia",
   "version": "1.5.3"
  }
 },
 "nbformat": 4,
 "nbformat_minor": 4
}
