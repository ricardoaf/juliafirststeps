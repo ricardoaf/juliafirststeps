{
 "cells": [
  {
   "cell_type": "markdown",
   "metadata": {},
   "source": [
    "# Julia Basic Concepts"
   ]
  },
  {
   "cell_type": "markdown",
   "metadata": {},
   "source": [
    "Ricardo A. Fernandes\n",
    "ricardoaf@lccv.ufal.br\n",
    "\n",
    "This notebook presents main Julia basic concepts and serves as a introductory guide to the language. It is based on the two following references:\n",
    "- Kochenderfer, M. J. & Wheeler, T. A. (2019) Algorithms for Optimization, MIT Press\n",
    "- Banas D. (2018) Julia Tutorial, http://www.newthinktank.com/2018/10/julia-tutorial/\n"
   ]
  },
  {
   "cell_type": "markdown",
   "metadata": {},
   "source": [
    "## Variables\n",
    "- Types are dynamically assigned and can be changed\n",
    "- Variables start with \\_, letters and then numbers, or !\n",
    "- Unicode characters are also allowed, with a few restrictions"
   ]
  },
  {
   "cell_type": "code",
   "execution_count": 1,
   "metadata": {},
   "outputs": [
    {
     "name": "stdout",
     "output_type": "stream",
     "text": [
      "Dogs: 3"
     ]
    }
   ],
   "source": [
    "β = 3  # unicode chars: \\beta(tab)\n",
    "s = \"Dogs: \"\n",
    "print(s, β)"
   ]
  },
  {
   "cell_type": "markdown",
   "metadata": {},
   "source": [
    "## Types"
   ]
  },
  {
   "cell_type": "markdown",
   "metadata": {},
   "source": [
    "### Booleans\n",
    "\n",
    "The Boolean type in Julia, written *Bool*, includes the values **true** and **false**"
   ]
  },
  {
   "cell_type": "code",
   "execution_count": 2,
   "metadata": {},
   "outputs": [
    {
     "data": {
      "text/plain": [
       "Bool"
      ]
     },
     "execution_count": 2,
     "metadata": {},
     "output_type": "execute_result"
    }
   ],
   "source": [
    "x = true\n",
    "y = false\n",
    "typeof(x)"
   ]
  },
  {
   "cell_type": "code",
   "execution_count": 3,
   "metadata": {},
   "outputs": [
    {
     "data": {
      "text/plain": [
       "false"
      ]
     },
     "execution_count": 3,
     "metadata": {},
     "output_type": "execute_result"
    }
   ],
   "source": [
    "!x  # not"
   ]
  },
  {
   "cell_type": "code",
   "execution_count": 4,
   "metadata": {},
   "outputs": [
    {
     "data": {
      "text/plain": [
       "false"
      ]
     },
     "execution_count": 4,
     "metadata": {},
     "output_type": "execute_result"
    }
   ],
   "source": [
    "x && y  # and"
   ]
  },
  {
   "cell_type": "code",
   "execution_count": 5,
   "metadata": {},
   "outputs": [
    {
     "data": {
      "text/plain": [
       "true"
      ]
     },
     "execution_count": 5,
     "metadata": {},
     "output_type": "execute_result"
    }
   ],
   "source": [
    "x || y  # or"
   ]
  },
  {
   "cell_type": "markdown",
   "metadata": {},
   "source": [
    "### Numbers\n",
    "Julia supports integer and floating point numbers"
   ]
  },
  {
   "cell_type": "code",
   "execution_count": 6,
   "metadata": {},
   "outputs": [
    {
     "data": {
      "text/plain": [
       "(Int64, Float64)"
      ]
     },
     "execution_count": 6,
     "metadata": {},
     "output_type": "execute_result"
    }
   ],
   "source": [
    "typeof(42), typeof(42.0)"
   ]
  },
  {
   "cell_type": "code",
   "execution_count": 7,
   "metadata": {},
   "outputs": [
    {
     "data": {
      "text/plain": [
       "6.666666666666667"
      ]
     },
     "execution_count": 7,
     "metadata": {},
     "output_type": "execute_result"
    }
   ],
   "source": [
    "x = 4\n",
    "y = 2\n",
    "(x^2 + 2y) / (y + 1)"
   ]
  },
  {
   "cell_type": "code",
   "execution_count": 8,
   "metadata": {},
   "outputs": [
    {
     "data": {
      "text/plain": [
       "0"
      ]
     },
     "execution_count": 8,
     "metadata": {},
     "output_type": "execute_result"
    }
   ],
   "source": [
    "x % y  # x mod y"
   ]
  },
  {
   "cell_type": "code",
   "execution_count": 9,
   "metadata": {},
   "outputs": [
    {
     "data": {
      "text/plain": [
       "5"
      ]
     },
     "execution_count": 9,
     "metadata": {},
     "output_type": "execute_result"
    }
   ],
   "source": [
    "x += 1  # shortcut for x = x + 1"
   ]
  },
  {
   "cell_type": "code",
   "execution_count": 10,
   "metadata": {},
   "outputs": [
    {
     "data": {
      "text/plain": [
       "false"
      ]
     },
     "execution_count": 10,
     "metadata": {},
     "output_type": "execute_result"
    }
   ],
   "source": [
    "3 > 4"
   ]
  },
  {
   "cell_type": "code",
   "execution_count": 11,
   "metadata": {},
   "outputs": [
    {
     "data": {
      "text/plain": [
       "true"
      ]
     },
     "execution_count": 11,
     "metadata": {},
     "output_type": "execute_result"
    }
   ],
   "source": [
    "3 ≤ 4  # unicode also works"
   ]
  },
  {
   "cell_type": "code",
   "execution_count": 12,
   "metadata": {},
   "outputs": [
    {
     "data": {
      "text/plain": [
       "true"
      ]
     },
     "execution_count": 12,
     "metadata": {},
     "output_type": "execute_result"
    }
   ],
   "source": [
    "3 < 4 < 5"
   ]
  },
  {
   "cell_type": "markdown",
   "metadata": {},
   "source": [
    "### Strings\n",
    "A string is an array of characteres"
   ]
  },
  {
   "cell_type": "code",
   "execution_count": 13,
   "metadata": {},
   "outputs": [
    {
     "data": {
      "text/plain": [
       "22"
      ]
     },
     "execution_count": 13,
     "metadata": {},
     "output_type": "execute_result"
    }
   ],
   "source": [
    "s1 = \"Just some random words\"\n",
    "length(s1)"
   ]
  },
  {
   "cell_type": "code",
   "execution_count": 14,
   "metadata": {},
   "outputs": [
    {
     "data": {
      "text/plain": [
       "('J', 's', \"Just\")"
      ]
     },
     "execution_count": 14,
     "metadata": {},
     "output_type": "execute_result"
    }
   ],
   "source": [
    "s1[1], s1[end], s1[1:4]"
   ]
  },
  {
   "cell_type": "code",
   "execution_count": 15,
   "metadata": {},
   "outputs": [
    {
     "data": {
      "text/plain": [
       "true"
      ]
     },
     "execution_count": 15,
     "metadata": {},
     "output_type": "execute_result"
    }
   ],
   "source": [
    "s2 = string(\"Hey\", \" you!\")  # concatenation\n",
    "s2 == \"Hey\" * \" you!\""
   ]
  },
  {
   "cell_type": "code",
   "execution_count": 16,
   "metadata": {},
   "outputs": [
    {
     "data": {
      "text/plain": [
       "\"2 + 3 = 5\""
      ]
     },
     "execution_count": 16,
     "metadata": {},
     "output_type": "execute_result"
    }
   ],
   "source": [
    "a = 2\n",
    "b = 3\n",
    "\"$a + $b = $(a + b)\"  # interpolation"
   ]
  },
  {
   "cell_type": "code",
   "execution_count": 17,
   "metadata": {},
   "outputs": [
    {
     "name": "stdout",
     "output_type": "stream",
     "text": [
      "I\n",
      "have\n",
      "many\n",
      "lines"
     ]
    }
   ],
   "source": [
    "s3 = \"I\n",
    "have\n",
    "many\n",
    "lines\"\n",
    "print(s3)"
   ]
  },
  {
   "cell_type": "code",
   "execution_count": 18,
   "metadata": {},
   "outputs": [
    {
     "data": {
      "text/plain": [
       "true"
      ]
     },
     "execution_count": 18,
     "metadata": {},
     "output_type": "execute_result"
    }
   ],
   "source": [
    "\"House\" > \"Home\"  # string comparison (== > < !=)"
   ]
  },
  {
   "cell_type": "code",
   "execution_count": 19,
   "metadata": {},
   "outputs": [
    {
     "data": {
      "text/plain": [
       "true"
      ]
     },
     "execution_count": 19,
     "metadata": {},
     "output_type": "execute_result"
    }
   ],
   "source": [
    "occursin(\"key\", \"monkey\")  # substring"
   ]
  },
  {
   "cell_type": "markdown",
   "metadata": {},
   "source": [
    "### Vectors\n",
    "- A *vector* is a 1D-array that stores a sequence of values\n",
    "- Can be constructed using square brackets, separating elements by commas"
   ]
  },
  {
   "cell_type": "code",
   "execution_count": 20,
   "metadata": {},
   "outputs": [],
   "source": [
    "x = [];                      # empty vector\n",
    "x = trues(3);                # Boolean vector containing three trues\n",
    "x = ones(3);                 # vector of three ones\n",
    "x = zeros(3);                # vector of three zeros\n",
    "x = rand(3);                 # vector of three random numbers between 0 and 1\n",
    "x = [3, 1, 4];               # vector of integers\n",
    "x = [3.1415, 1.618, 2.7182]; # vector of floats"
   ]
  },
  {
   "cell_type": "markdown",
   "metadata": {},
   "source": [
    "*Array comprehension* can also be used to create vectors"
   ]
  },
  {
   "cell_type": "code",
   "execution_count": 21,
   "metadata": {},
   "outputs": [
    {
     "name": "stdout",
     "output_type": "stream",
     "text": [
      "[0.8414709848078965, 0.9092974268256817, 0.1411200080598672, -0.7568024953079282, -0.9589242746631385]"
     ]
    }
   ],
   "source": [
    "print([sin(x) for x = 1:5])"
   ]
  },
  {
   "cell_type": "code",
   "execution_count": 22,
   "metadata": {},
   "outputs": [
    {
     "data": {
      "text/plain": [
       "(Array{Int64,1}, Array{Float64,1})"
      ]
     },
     "execution_count": 22,
     "metadata": {},
     "output_type": "execute_result"
    }
   ],
   "source": [
    "typeof([3, 1, 4]), typeof([3.1415, 1.618, 2.7182])"
   ]
  },
  {
   "cell_type": "code",
   "execution_count": 23,
   "metadata": {},
   "outputs": [
    {
     "name": "stdout",
     "output_type": "stream",
     "text": [
      "3.1415\n",
      "2.7182\n",
      "2.7182\n",
      "1.618\n"
     ]
    }
   ],
   "source": [
    "println(x[1])        # first element is indexed by 1\n",
    "println(x[3])        # third element\n",
    "println(x[end])      # last element\n",
    "println(x[end - 1])  # second to last element)"
   ]
  },
  {
   "cell_type": "code",
   "execution_count": 24,
   "metadata": {},
   "outputs": [
    {
     "name": "stdout",
     "output_type": "stream",
     "text": [
      "len(x): 7\n",
      "[1, 1, 2]\n",
      "[1, 2, 5, 13]\n",
      "[13, 8, 5, 3, 2, 1, 1]\n"
     ]
    }
   ],
   "source": [
    "x = [1, 1, 2, 3, 5, 8, 13]\n",
    "println(\"len(x): \", length(x))  # vector length\n",
    "println(x[1:3])                 # first three elements\n",
    "println(x[1:2:end])             # elements with odd indices\n",
    "println(x[end:-1:1])            # reverse order"
   ]
  },
  {
   "cell_type": "code",
   "execution_count": 25,
   "metadata": {},
   "outputs": [
    {
     "name": "stdout",
     "output_type": "stream",
     "text": [
      "33\n",
      "13\n",
      "1\n"
     ]
    }
   ],
   "source": [
    "println(sum(x))      # sum of vector elements\n",
    "println(maximum(x))  # max value\n",
    "println(minimum(x))  # min value"
   ]
  },
  {
   "cell_type": "code",
   "execution_count": 26,
   "metadata": {},
   "outputs": [
    {
     "name": "stdout",
     "output_type": "stream",
     "text": [
      "4.714285714285714\n"
     ]
    }
   ],
   "source": [
    "using Statistics\n",
    "println(mean(x))  # mean of vector elements"
   ]
  },
  {
   "cell_type": "code",
   "execution_count": 27,
   "metadata": {},
   "outputs": [
    {
     "name": "stdout",
     "output_type": "stream",
     "text": [
      "[[1, 1, 2, 3, 5, 8, 13], [1, 1, 2, 3, 5, 8, 13]]\n",
      "[1, 1, 2, 3, 5, 8, 13, -1]\n",
      "-1\n",
      "[1, 1, 2, 3, 5, 8, 13, 2, 3]\n",
      "[1, 1, 2, 2, 3, 3, 5, 8, 13]\n",
      "[2, 1, 2, 2, 3, 3, 5, 8, 13]\n"
     ]
    }
   ],
   "source": [
    "println([x, x])              # concatenation\n",
    "println(push!(x, -1))        # add an element to the end\n",
    "println(pop!(x))             # remove and element from the end\n",
    "println(append!(x, [2, 3]))  # append to the end of x\n",
    "println(sort!(x))            # sort vector elements\n",
    "x[1] = 2; println(x)         # change first element"
   ]
  },
  {
   "cell_type": "code",
   "execution_count": 28,
   "metadata": {},
   "outputs": [
    {
     "name": "stdout",
     "output_type": "stream",
     "text": [
      "[4, 6]\n",
      "[2, 4]\n"
     ]
    }
   ],
   "source": [
    "x = [1, 2]\n",
    "y = [3, 4]\n",
    "println(x + y)        # add vectors\n",
    "println(3x - [1, 2])  # multiply by a scalar and subtract"
   ]
  },
  {
   "cell_type": "code",
   "execution_count": 29,
   "metadata": {},
   "outputs": [
    {
     "name": "stdout",
     "output_type": "stream",
     "text": [
      "11\n",
      "11\n"
     ]
    }
   ],
   "source": [
    "using LinearAlgebra\n",
    "println(dot(x,y))  # dot product\n",
    "println(x⋅y)       # dot product using unicode character"
   ]
  },
  {
   "cell_type": "code",
   "execution_count": 30,
   "metadata": {},
   "outputs": [
    {
     "name": "stdout",
     "output_type": "stream",
     "text": [
      "[3, 8]\n",
      "[1, 4]\n",
      "[0.8414709848078965, 0.9092974268256817]\n",
      "[1.0, 1.4142135623730951]\n",
      "[1.5, 2.0]\n"
     ]
    }
   ],
   "source": [
    "# element-wise operations\n",
    "println(x .* y)        # multiplication\n",
    "println(x .^ 2)        # squaring\n",
    "println(sin.(x))       # application of sin\n",
    "println(sqrt.(x))      # application of sqrt\n",
    "println(max.(x, 1.5))  # application of max{xᵢ,1.5}"
   ]
  },
  {
   "cell_type": "markdown",
   "metadata": {},
   "source": [
    "### Matrices\n",
    "- A *matrix* is a 2D-array\n",
    "- Like a vector, can be constructed using square brackets\n",
    "- Use spaces to delimit elements in the same row\n",
    "- Use semicolons to delimit rows"
   ]
  },
  {
   "cell_type": "code",
   "execution_count": 31,
   "metadata": {},
   "outputs": [
    {
     "name": "stdout",
     "output_type": "stream",
     "text": [
      "Array{Int64,2}\n"
     ]
    },
    {
     "data": {
      "text/plain": [
       "(4, 3)"
      ]
     },
     "execution_count": 31,
     "metadata": {},
     "output_type": "execute_result"
    }
   ],
   "source": [
    "X = [1 2 3; 4 5 6; 7 8 9; 10 11 12]\n",
    "println(typeof(X))\n",
    "size(X)"
   ]
  },
  {
   "cell_type": "code",
   "execution_count": 32,
   "metadata": {},
   "outputs": [
    {
     "name": "stdout",
     "output_type": "stream",
     "text": [
      "4\n",
      "8\n",
      "[1, 2, 3]\n",
      "[2, 5, 8, 11]\n",
      "[1 2; 4 5; 7 8; 10 11]\n",
      "[1 2; 4 5]\n"
     ]
    }
   ],
   "source": [
    "println(X[2])        # 2nd element using column-major ordering\n",
    "println(X[3,2])      # element in 3rd row and 2nd column\n",
    "println(X[1,:])      # 1st row\n",
    "println(X[:,2])      # 2nd column\n",
    "println(X[:,1:2])    # first two columns\n",
    "println(X[1:2,1:2])  # top left 2x2 submatrix"
   ]
  },
  {
   "cell_type": "code",
   "execution_count": 33,
   "metadata": {},
   "outputs": [
    {
     "name": "stdout",
     "output_type": "stream",
     "text": [
      "[1.0 0.0 0.0; 0.0 1.0 0.0; 0.0 0.0 1.0]\n",
      "[3 0 0; 0 2 0; 0 0 1]\n",
      "[0.31022464293684116 0.005603043589117229; 0.7763868271910117 0.5773427092992909; 0.5044495051551829 0.04391764938332465]\n",
      "[0.0 0.0; 0.0 0.0; 0.0 0.0]\n",
      "[0.9092974268256817 0.1411200080598672; 0.1411200080598672 -0.7568024953079282; -0.7568024953079282 -0.9589242746631385]\n"
     ]
    }
   ],
   "source": [
    "println(Matrix(1.0I, 3, 3))             # 3x3 identity matrix\n",
    "println(Matrix(Diagonal([3, 2, 1])))    # Diagonal matrix\n",
    "println(rand(3,2))                      # Random matrix\n",
    "println(zeros(3,2))                     # Matrix of zeros\n",
    "println([sin(x + y) for x=1:3, y=1:2])  # array comprehension"
   ]
  },
  {
   "cell_type": "code",
   "execution_count": 34,
   "metadata": {},
   "outputs": [
    {
     "name": "stdout",
     "output_type": "stream",
     "text": [
      "[1 4 7 10; 2 5 8 11; 3 6 9 12]\n",
      "[5 8 11; 14 17 20; 23 26 29; 32 35 38]\n",
      "[-0.125 0.375; 0.375 -0.125]\n",
      "-8.0\n",
      "[1 3 1 3; 3 1 3 1]\n",
      "[1 3; 3 1; 1 3; 3 1]\n",
      "[0.8414709848078965 0.1411200080598672; 0.1411200080598672 0.8414709848078965]\n"
     ]
    }
   ],
   "source": [
    "println(X')       # complex conjugate transpose\n",
    "println(3X .+ 2)  # multiplying by scalar and adding scalar\n",
    "X = [1 3; 3 1]    # invertible matrix\n",
    "println(inv(X))   # invsersion\n",
    "println(det(X))   # determinant\n",
    "println([X X])    # horizontal concatenation\n",
    "println([X; X])   # vertical concatenation\n",
    "println(sin.(X))  # element-wise application of sin"
   ]
  },
  {
   "cell_type": "code",
   "execution_count": 35,
   "metadata": {},
   "outputs": [
    {
     "name": "stdout",
     "output_type": "stream",
     "text": [
      "[0.9999999999999994, -1.9999999999999984, -1.9999999999999984]"
     ]
    }
   ],
   "source": [
    "# Solving a system of linear equations\n",
    "# 3x + 2y - z = 1\n",
    "# 2x - 2y + 4z = -2\n",
    "# -x + 1/2*y -z = 0\n",
    "\n",
    "A = [3 2 -1; 2 -2 4; -1 1/2 -1]\n",
    "b = [1, -2, 0]\n",
    "x = A\\b\n",
    "print(x)"
   ]
  },
  {
   "cell_type": "markdown",
   "metadata": {},
   "source": [
    "### Tuples\n",
    "- A *tuple* is an ordered list of values (can be of different types)\n",
    "- Similar to arrays, but **can't be mutated!**\n",
    "- Constructed with parentheses"
   ]
  },
  {
   "cell_type": "code",
   "execution_count": 36,
   "metadata": {},
   "outputs": [
    {
     "data": {
      "text/plain": [
       "5"
      ]
     },
     "execution_count": 36,
     "metadata": {},
     "output_type": "execute_result"
    }
   ],
   "source": [
    "x = (1,)  # a single element\n",
    "x = (1, 0, [1, 2], 2.5, 4.66)  # third element is a vector\n",
    "length(x)"
   ]
  },
  {
   "cell_type": "code",
   "execution_count": 37,
   "metadata": {},
   "outputs": [
    {
     "data": {
      "text/plain": [
       "(0, 4.66, (2.5, 4.66))"
      ]
     },
     "execution_count": 37,
     "metadata": {},
     "output_type": "execute_result"
    }
   ],
   "source": [
    "x[2], x[end], x[4:end]"
   ]
  },
  {
   "cell_type": "code",
   "execution_count": 38,
   "metadata": {},
   "outputs": [
    {
     "name": "stdout",
     "output_type": "stream",
     "text": [
      "t1[1][1] = 1\n",
      "(\"Sue\", 100)\n"
     ]
    }
   ],
   "source": [
    "t1 = ((1, 2), (3, 4))  # multidimensional tuple\n",
    "println(\"t1[1][1] = \", t1[1][1])\n",
    "\n",
    "t2 = (sue=(\"Sue\", 100), paul=(\"Paul\", 23)) # named tuple\n",
    "println(t2.sue)"
   ]
  },
  {
   "cell_type": "markdown",
   "metadata": {},
   "source": [
    "### Dictionaries\n",
    "- A *dictionary* is a collection of key-value pairs\n",
    "- Key-value pairs are indicated with a double arrow operator\n",
    "- One can index into a dictionary using square brackers as arrays/tuples"
   ]
  },
  {
   "cell_type": "code",
   "execution_count": 39,
   "metadata": {},
   "outputs": [
    {
     "data": {
      "text/plain": [
       "4"
      ]
     },
     "execution_count": 39,
     "metadata": {},
     "output_type": "execute_result"
    }
   ],
   "source": [
    "x = Dict();  # empty dictionary\n",
    "x[3] = 4     # associate value 4 with key 3"
   ]
  },
  {
   "cell_type": "code",
   "execution_count": 40,
   "metadata": {},
   "outputs": [
    {
     "data": {
      "text/plain": [
       "Dict{Int64,Int64} with 2 entries:\n",
       "  3 => 4\n",
       "  5 => 1"
      ]
     },
     "execution_count": 40,
     "metadata": {},
     "output_type": "execute_result"
    }
   ],
   "source": [
    "x = Dict(3=>4, 5=>1)  # create dictionary with 2 key-value pairs"
   ]
  },
  {
   "cell_type": "code",
   "execution_count": 41,
   "metadata": {},
   "outputs": [
    {
     "name": "stdout",
     "output_type": "stream",
     "text": [
      "1\n",
      "true\n",
      "false\n"
     ]
    }
   ],
   "source": [
    "println(x[5])          # return value associated with key 5\n",
    "println(haskey(x, 3))  # check if dict has key 3\n",
    "println(haskey(x, 4))  # check if dict has key 4"
   ]
  },
  {
   "cell_type": "code",
   "execution_count": 42,
   "metadata": {},
   "outputs": [
    {
     "name": "stdout",
     "output_type": "stream",
     "text": [
      "3.14\n",
      "[\"golden\", \"e\"]\n",
      "[1.618, 2.718]\n"
     ]
    }
   ],
   "source": [
    "d1 = Dict(\"pi\"=>3.14, \"e\"=>2.718)  # new dict\n",
    "println(d1[\"pi\"])                  # print value of \"pi\" key\n",
    "d1[\"golden\"] = 1.618               # add a key-value\n",
    "delete!(d1, \"pi\")                  # delete a key-value\n",
    "println(keys(d1))                  # display all keys\n",
    "println(values(d1))                # display all keys"
   ]
  },
  {
   "cell_type": "markdown",
   "metadata": {},
   "source": [
    "### Composite types\n",
    "- A *composite type* is a collection of named fields\n",
    "- Use **struct** keyword. By default, it is immutable\n",
    "- Adding keyword **mutable** makes an instance mutable\n",
    "\n",
    "\n",
    "- Double-colon operator can be used to annotate types (any variable)\n",
    "- Annotation requires that one pass correct types for fields/variables\n",
    "- Type annotations alow runtime improvements (compiler optimization)"
   ]
  },
  {
   "cell_type": "code",
   "execution_count": 43,
   "metadata": {},
   "outputs": [
    {
     "name": "stdout",
     "output_type": "stream",
     "text": [
      "Bob Smith\n"
     ]
    },
    {
     "ename": "LoadError",
     "evalue": "setfield! immutable struct of type Customer cannot be changed",
     "output_type": "error",
     "traceback": [
      "setfield! immutable struct of type Customer cannot be changed",
      "",
      "Stacktrace:",
      " [1] setproperty!(::Customer, ::Symbol, ::String) at .\\Base.jl:34",
      " [2] top-level scope at In[43]:12",
      " [3] include_string(::Function, ::Module, ::String, ::String) at .\\loading.jl:1091"
     ]
    }
   ],
   "source": [
    "struct Customer\n",
    "    name::String\n",
    "    balance::Float32\n",
    "    id::Int\n",
    "end\n",
    "\n",
    "# Create a Customer object\n",
    "bob = Customer(\"Bob Smith\", 10.50, 123)\n",
    "println(bob.name)\n",
    "\n",
    "# Change bob name\n",
    "bob.name = \"Sue Smith\"  # ERROR!"
   ]
  },
  {
   "cell_type": "code",
   "execution_count": 44,
   "metadata": {},
   "outputs": [
    {
     "name": "stdout",
     "output_type": "stream",
     "text": [
      "Sue Smith\n"
     ]
    }
   ],
   "source": [
    "mutable struct MCustomer\n",
    "    name::String\n",
    "    balance::Float32\n",
    "    id::Int\n",
    "end\n",
    "bob = MCustomer(\"Bob Smith\", 10.50, 123)\n",
    "\n",
    "# Change bob name\n",
    "bob.name = \"Sue Smith\"\n",
    "println(bob.name)"
   ]
  },
  {
   "cell_type": "markdown",
   "metadata": {},
   "source": [
    "### Abstract Types\n",
    "- Analog to classes in object-oriented languages (but without methods)"
   ]
  },
  {
   "cell_type": "code",
   "execution_count": 45,
   "metadata": {},
   "outputs": [
    {
     "name": "stdout",
     "output_type": "stream",
     "text": [
      "AbstractFloat\n",
      "Real\n",
      "Number\n",
      "Any\n",
      "Any\n"
     ]
    }
   ],
   "source": [
    "# Float64 hierarchy\n",
    "println(supertype(Float64))\n",
    "println(supertype(AbstractFloat))\n",
    "println(supertype(Real))\n",
    "println(supertype(Number))\n",
    "println(supertype(Any))"
   ]
  },
  {
   "cell_type": "code",
   "execution_count": 46,
   "metadata": {},
   "outputs": [
    {
     "name": "stdout",
     "output_type": "stream",
     "text": [
      "Any[BigFloat, Float16, Float32, Float64]\n",
      "Type[]\n"
     ]
    }
   ],
   "source": [
    "println(subtypes(AbstractFloat))  # different types of AbstractFloats\n",
    "println(subtypes(Float64))        # Float64 doesn't have any subtypes"
   ]
  },
  {
   "cell_type": "markdown",
   "metadata": {},
   "source": [
    "We can define our own abstract types\n",
    "- They can't be instantiated like Structs, but can have subtypes"
   ]
  },
  {
   "cell_type": "code",
   "execution_count": 47,
   "metadata": {},
   "outputs": [
    {
     "name": "stdout",
     "output_type": "stream",
     "text": [
      "Bowser sound: Ruff\n",
      "Muffin sound: Meow\n"
     ]
    }
   ],
   "source": [
    "abstract type Animal end\n",
    "\n",
    "struct Dog <: Animal\n",
    "    name::String\n",
    "    bark::String\n",
    "end\n",
    "\n",
    "struct Cat <: Animal\n",
    "    name::String\n",
    "    meow::String\n",
    "end\n",
    "\n",
    "bowser = Dog(\"Bowser\", \"Ruff\")\n",
    "muffin = Cat(\"Muffin\", \"Meow\")\n",
    "\n",
    "println(bowser.name, \" sound: \", bowser.bark)\n",
    "println(muffin.name, \" sound: \", muffin.meow)"
   ]
  },
  {
   "cell_type": "markdown",
   "metadata": {},
   "source": [
    "## Functions\n",
    "A *function* is an object that maps a tuple of argument values to a return value"
   ]
  },
  {
   "cell_type": "code",
   "execution_count": 48,
   "metadata": {},
   "outputs": [
    {
     "data": {
      "text/plain": [
       "3.1415"
      ]
     },
     "execution_count": 48,
     "metadata": {},
     "output_type": "execute_result"
    }
   ],
   "source": [
    "# Functions can be named\n",
    "function f(x, y)\n",
    "    return x + y\n",
    "end\n",
    "\n",
    "f(x, y) = x + y\n",
    "f(3, 0.1415)"
   ]
  },
  {
   "cell_type": "code",
   "execution_count": 49,
   "metadata": {},
   "outputs": [
    {
     "name": "stdout",
     "output_type": "stream",
     "text": [
      "[26, 101]\n"
     ]
    }
   ],
   "source": [
    "# Or anonymous\n",
    "h = x -> x^2 + 1           # assign anonymous function to a variable\n",
    "g(f, a, b) = [f(a), f(b)]  # applies function f to a and b\n",
    "println(g(h, 5, 10))"
   ]
  },
  {
   "cell_type": "code",
   "execution_count": 50,
   "metadata": {},
   "outputs": [
    {
     "name": "stdout",
     "output_type": "stream",
     "text": [
      "[1, 4, 9]\n",
      "[4, 6]\n"
     ]
    }
   ],
   "source": [
    "# map applies a function to each item\n",
    "println(map(x -> x * x, [1, 2, 3]))\n",
    "println(map((x,y) -> x + y, [1,2], [3,4]))"
   ]
  },
  {
   "cell_type": "code",
   "execution_count": 51,
   "metadata": {},
   "outputs": [
    {
     "name": "stdout",
     "output_type": "stream",
     "text": [
      "5\n",
      "10\n",
      "10\n"
     ]
    }
   ],
   "source": [
    "# arguments are passed by value\n",
    "v1 = 5\n",
    "function changeV1(v1); v1 = 10; end\n",
    "changeV1(v1); println(v1)\n",
    "\n",
    "# So, you can use globals inside functions\n",
    "function changeV12(); global v1 = 10; end\n",
    "changeV12(); println(v1)\n",
    "\n",
    "# or return modified parameter\n",
    "function changeV13(v1); v1 = 10; return v1; end\n",
    "v1 = changeV13(v1); println(v1)"
   ]
  },
  {
   "cell_type": "code",
   "execution_count": 52,
   "metadata": {},
   "outputs": [
    {
     "name": "stdout",
     "output_type": "stream",
     "text": [
      "[1, 2, 4]\n"
     ]
    }
   ],
   "source": [
    "# values are not copied when passed to a function\n",
    "# If a function modifies an array, the changes will be visible in the caller\n",
    "\n",
    "# ! denotes function argument will be modified (good practice in Julia)\n",
    "function changeArray!(x)  \n",
    "    x[end] += 1\n",
    "end\n",
    "\n",
    "a = [1, 2, 3]\n",
    "changeArray!(a)\n",
    "println(a)"
   ]
  },
  {
   "cell_type": "code",
   "execution_count": 53,
   "metadata": {
    "scrolled": true
   },
   "outputs": [
    {
     "name": "stdout",
     "output_type": "stream",
     "text": [
      "15\n"
     ]
    }
   ],
   "source": [
    "# Variable arguments\n",
    "function getSum(args...)\n",
    "    sum = 0\n",
    "    for a in args\n",
    "        sum += a\n",
    "    end\n",
    "    return sum\n",
    "end\n",
    "println(getSum(1,2,3,4,5))"
   ]
  },
  {
   "cell_type": "code",
   "execution_count": 54,
   "metadata": {},
   "outputs": [
    {
     "name": "stdout",
     "output_type": "stream",
     "text": [
      "(5, 6)\n"
     ]
    }
   ],
   "source": [
    "# Return multiple values\n",
    "function next2(val)\n",
    "    return val + 1, val + 2\n",
    "end\n",
    "println(next2(4))"
   ]
  },
  {
   "cell_type": "code",
   "execution_count": 55,
   "metadata": {},
   "outputs": [
    {
     "name": "stdout",
     "output_type": "stream",
     "text": [
      "18\n"
     ]
    }
   ],
   "source": [
    "# Functions that return functions\n",
    "function makeMultiplier(num)\n",
    "    return function(x); return x*num; end\n",
    "end\n",
    "\n",
    "mult3 = makeMultiplier(3)\n",
    "println(mult3(6))"
   ]
  },
  {
   "cell_type": "code",
   "execution_count": 56,
   "metadata": {},
   "outputs": [
    {
     "name": "stdout",
     "output_type": "stream",
     "text": [
      "7\n",
      "7\n"
     ]
    }
   ],
   "source": [
    "# Optional arguments can be specified setting default values\n",
    "f(x, y, z=1) = x*y + z\n",
    "println(f(3, 2, 1))\n",
    "println(f(3, 2))"
   ]
  },
  {
   "cell_type": "code",
   "execution_count": 57,
   "metadata": {},
   "outputs": [
    {
     "name": "stdout",
     "output_type": "stream",
     "text": [
      "22\n",
      "36\n",
      "10\n",
      "5\n"
     ]
    }
   ],
   "source": [
    "# Keyword arguments are defined using a semicolon\n",
    "f(x, y=10; z=2) = (x+y)*z\n",
    "\n",
    "println(f(1))          # x=1, y=10, z=2\n",
    "println(f(2, z=3))     # x=2, y=10, z=3\n",
    "println(f(2, 3))       # x=2, y=3,  z=2\n",
    "println(f(2, 3, z=1))  # x=2, y=3,  z=1"
   ]
  },
  {
   "cell_type": "code",
   "execution_count": 58,
   "metadata": {},
   "outputs": [
    {
     "name": "stdout",
     "output_type": "stream",
     "text": [
      "110.0\n"
     ]
    }
   ],
   "source": [
    "# Function arguments can also handle different data types\n",
    "function getSum2(num1::Number, num2::Number)\n",
    "    return num1 + num2\n",
    "end\n",
    "println(1, 2.0*5)  # Integer and Float arguments"
   ]
  },
  {
   "cell_type": "code",
   "execution_count": 59,
   "metadata": {},
   "outputs": [
    {
     "name": "stdout",
     "output_type": "stream",
     "text": [
      "11\n",
      "4.141500000000001\n"
     ]
    }
   ],
   "source": [
    "# Function overloading\n",
    "F(x::Int64) = x + 10\n",
    "F(x::Float64) = x + 3.1415\n",
    "\n",
    "println(F(1))\n",
    "println(F(1.0))"
   ]
  },
  {
   "cell_type": "markdown",
   "metadata": {},
   "source": [
    "## Important note"
   ]
  },
  {
   "cell_type": "code",
   "execution_count": 60,
   "metadata": {},
   "outputs": [
    {
     "name": "stdout",
     "output_type": "stream",
     "text": [
      "A: [1, 20, 3, 4]\n",
      "C: [1, 2, 3, 4]\n",
      "A-2B: [0, 0, 0, 0]\n"
     ]
    }
   ],
   "source": [
    "# Julia arrays are not copied when assigned to another variable\n",
    "# After A = B, changing elements of B will modify A as well\n",
    "B = [1, 2, 3, 4]\n",
    "A = B\n",
    "C = copy(B)\n",
    "\n",
    "B[2] = 20\n",
    "println(\"A: \", A)\n",
    "println(\"C: \", C)\n",
    "\n",
    "# Updating operators like += do not operate in-place,\n",
    "# they are equivalent to A = A + B which rebinds the left-hand side to the result of the right-hand side expression\n",
    "A += B\n",
    "println(\"A-2B: \", A-2B)"
   ]
  },
  {
   "cell_type": "markdown",
   "metadata": {},
   "source": [
    "## Control flow"
   ]
  },
  {
   "cell_type": "markdown",
   "metadata": {},
   "source": [
    "### Conditional Evaluation"
   ]
  },
  {
   "cell_type": "code",
   "execution_count": 61,
   "metadata": {},
   "outputs": [
    {
     "name": "stdout",
     "output_type": "stream",
     "text": [
      "You're in Middle School\n"
     ]
    }
   ],
   "source": [
    "age = 12\n",
    "if age >= 5 && age <= 6\n",
    "    println(\"You're in Kindergarten\")\n",
    "elseif age >= 7 && age <= 13\n",
    "    println(\"You're in Middle School\")\n",
    "elseif age >= 14 && age <= 18\n",
    "    println(\"You're in High School\")\n",
    "else\n",
    "    println(\"Stay Home\")\n",
    "end"
   ]
  },
  {
   "cell_type": "code",
   "execution_count": 62,
   "metadata": {},
   "outputs": [
    {
     "name": "stdout",
     "output_type": "stream",
     "text": [
      "0\n",
      "10\n"
     ]
    }
   ],
   "source": [
    "f(x) = x > 0.0 ? x : 0\n",
    "println(f(-10))\n",
    "println(f(+10))"
   ]
  },
  {
   "cell_type": "markdown",
   "metadata": {},
   "source": [
    "### Loops"
   ]
  },
  {
   "cell_type": "code",
   "execution_count": 63,
   "metadata": {},
   "outputs": [
    {
     "name": "stdout",
     "output_type": "stream",
     "text": [
      "82\n"
     ]
    }
   ],
   "source": [
    "# using while\n",
    "x = [1, 2, 3, 4, 6, 8, 11, 13, 16, 18]\n",
    "s = 0\n",
    "while x != []\n",
    "    s += pop!(x)\n",
    "end\n",
    "println(s)"
   ]
  },
  {
   "cell_type": "code",
   "execution_count": 64,
   "metadata": {},
   "outputs": [
    {
     "name": "stdout",
     "output_type": "stream",
     "text": [
      "82\n",
      "82\n"
     ]
    }
   ],
   "source": [
    "# using for\n",
    "x = [1, 2, 3, 4, 6, 8, 11, 13, 16, 18]\n",
    "s = 0\n",
    "for i = 1:length(x)\n",
    "    s += x[i]\n",
    "end\n",
    "println(s)\n",
    "\n",
    "# or\n",
    "s = 0\n",
    "for i in x\n",
    "    s += i\n",
    "end\n",
    "println(s)"
   ]
  },
  {
   "cell_type": "markdown",
   "metadata": {},
   "source": [
    "## File Input/Output"
   ]
  },
  {
   "cell_type": "code",
   "execution_count": 65,
   "metadata": {},
   "outputs": [
    {
     "name": "stdout",
     "output_type": "stream",
     "text": [
      "Here is some random text\n",
      "It is great\n",
      "\n",
      "Here is some random text\n",
      "It is great\n"
     ]
    }
   ],
   "source": [
    "# Open file for writing\n",
    "open(\"random.txt\", \"w\") do file\n",
    "    write(file, \"Here is some random text\\nIt is great\\n\")\n",
    "end\n",
    " \n",
    "# Open a file for reading\n",
    "open(\"random.txt\") do file\n",
    "    # Read whole file into a string\n",
    "    data = read(file, String)\n",
    "    println(data)\n",
    "end\n",
    " \n",
    "open(\"random.txt\") do file\n",
    "    # Read each line 1 at a time\n",
    "    for line in eachline(file)\n",
    "        println(line)\n",
    "    end\n",
    "end"
   ]
  },
  {
   "cell_type": "markdown",
   "metadata": {},
   "source": [
    "## Simple plot example"
   ]
  },
  {
   "cell_type": "code",
   "execution_count": 66,
   "metadata": {},
   "outputs": [
    {
     "data": {
      "image/svg+xml": [
       "<?xml version=\"1.0\" encoding=\"utf-8\"?>\n",
       "<svg xmlns=\"http://www.w3.org/2000/svg\" xmlns:xlink=\"http://www.w3.org/1999/xlink\" width=\"600\" height=\"400\" viewBox=\"0 0 2400 1600\">\n",
       "<defs>\n",
       "  <clipPath id=\"clip570\">\n",
       "    <rect x=\"0\" y=\"0\" width=\"2400\" height=\"1600\"/>\n",
       "  </clipPath>\n",
       "</defs>\n",
       "<path clip-path=\"url(#clip570)\" d=\"\n",
       "M0 1600 L2400 1600 L2400 0 L0 0  Z\n",
       "  \" fill=\"#ffffff\" fill-rule=\"evenodd\" fill-opacity=\"1\"/>\n",
       "<defs>\n",
       "  <clipPath id=\"clip571\">\n",
       "    <rect x=\"480\" y=\"0\" width=\"1681\" height=\"1600\"/>\n",
       "  </clipPath>\n",
       "</defs>\n",
       "<path clip-path=\"url(#clip570)\" d=\"\n",
       "M211.116 1423.18 L2352.76 1423.18 L2352.76 123.472 L211.116 123.472  Z\n",
       "  \" fill=\"#ffffff\" fill-rule=\"evenodd\" fill-opacity=\"1\"/>\n",
       "<defs>\n",
       "  <clipPath id=\"clip572\">\n",
       "    <rect x=\"211\" y=\"123\" width=\"2143\" height=\"1301\"/>\n",
       "  </clipPath>\n",
       "</defs>\n",
       "<polyline clip-path=\"url(#clip572)\" style=\"stroke:#000000; stroke-width:2; stroke-opacity:0.1; fill:none\" points=\"\n",
       "  496.219,1423.18 496.219,123.472 \n",
       "  \"/>\n",
       "<polyline clip-path=\"url(#clip572)\" style=\"stroke:#000000; stroke-width:2; stroke-opacity:0.1; fill:none\" points=\"\n",
       "  945.2,1423.18 945.2,123.472 \n",
       "  \"/>\n",
       "<polyline clip-path=\"url(#clip572)\" style=\"stroke:#000000; stroke-width:2; stroke-opacity:0.1; fill:none\" points=\"\n",
       "  1394.18,1423.18 1394.18,123.472 \n",
       "  \"/>\n",
       "<polyline clip-path=\"url(#clip572)\" style=\"stroke:#000000; stroke-width:2; stroke-opacity:0.1; fill:none\" points=\"\n",
       "  1843.16,1423.18 1843.16,123.472 \n",
       "  \"/>\n",
       "<polyline clip-path=\"url(#clip572)\" style=\"stroke:#000000; stroke-width:2; stroke-opacity:0.1; fill:none\" points=\"\n",
       "  2292.14,1423.18 2292.14,123.472 \n",
       "  \"/>\n",
       "<polyline clip-path=\"url(#clip570)\" style=\"stroke:#000000; stroke-width:4; stroke-opacity:1; fill:none\" points=\"\n",
       "  211.116,1423.18 2352.76,1423.18 \n",
       "  \"/>\n",
       "<polyline clip-path=\"url(#clip570)\" style=\"stroke:#000000; stroke-width:4; stroke-opacity:1; fill:none\" points=\"\n",
       "  496.219,1423.18 496.219,1407.58 \n",
       "  \"/>\n",
       "<polyline clip-path=\"url(#clip570)\" style=\"stroke:#000000; stroke-width:4; stroke-opacity:1; fill:none\" points=\"\n",
       "  945.2,1423.18 945.2,1407.58 \n",
       "  \"/>\n",
       "<polyline clip-path=\"url(#clip570)\" style=\"stroke:#000000; stroke-width:4; stroke-opacity:1; fill:none\" points=\"\n",
       "  1394.18,1423.18 1394.18,1407.58 \n",
       "  \"/>\n",
       "<polyline clip-path=\"url(#clip570)\" style=\"stroke:#000000; stroke-width:4; stroke-opacity:1; fill:none\" points=\"\n",
       "  1843.16,1423.18 1843.16,1407.58 \n",
       "  \"/>\n",
       "<polyline clip-path=\"url(#clip570)\" style=\"stroke:#000000; stroke-width:4; stroke-opacity:1; fill:none\" points=\"\n",
       "  2292.14,1423.18 2292.14,1407.58 \n",
       "  \"/>\n",
       "<path clip-path=\"url(#clip570)\" d=\"M 0 0 M490.872 1479.92 L507.191 1479.92 L507.191 1483.85 L485.247 1483.85 L485.247 1479.92 Q487.909 1477.16 492.492 1472.53 Q497.099 1467.88 498.279 1466.54 Q500.525 1464.01 501.404 1462.28 Q502.307 1460.52 502.307 1458.83 Q502.307 1456.07 500.363 1454.34 Q498.441 1452.6 495.34 1452.6 Q493.141 1452.6 490.687 1453.37 Q488.256 1454.13 485.479 1455.68 L485.479 1450.96 Q488.303 1449.82 490.756 1449.25 Q493.21 1448.67 495.247 1448.67 Q500.617 1448.67 503.812 1451.35 Q507.006 1454.04 507.006 1458.53 Q507.006 1460.66 506.196 1462.58 Q505.409 1464.48 503.303 1467.07 Q502.724 1467.74 499.622 1470.96 Q496.52 1474.15 490.872 1479.92 Z\" fill=\"#000000\" fill-rule=\"evenodd\" fill-opacity=\"1\" /><path clip-path=\"url(#clip570)\" d=\"M 0 0 M948.21 1453.37 L936.404 1471.81 L948.21 1471.81 L948.21 1453.37 M946.983 1449.29 L952.862 1449.29 L952.862 1471.81 L957.793 1471.81 L957.793 1475.7 L952.862 1475.7 L952.862 1483.85 L948.21 1483.85 L948.21 1475.7 L932.608 1475.7 L932.608 1471.19 L946.983 1449.29 Z\" fill=\"#000000\" fill-rule=\"evenodd\" fill-opacity=\"1\" /><path clip-path=\"url(#clip570)\" d=\"M 0 0 M1394.59 1464.71 Q1391.44 1464.71 1389.59 1466.86 Q1387.76 1469.01 1387.76 1472.76 Q1387.76 1476.49 1389.59 1478.67 Q1391.44 1480.82 1394.59 1480.82 Q1397.73 1480.82 1399.56 1478.67 Q1401.42 1476.49 1401.42 1472.76 Q1401.42 1469.01 1399.56 1466.86 Q1397.73 1464.71 1394.59 1464.71 M1403.87 1450.06 L1403.87 1454.31 Q1402.11 1453.48 1400.3 1453.04 Q1398.52 1452.6 1396.76 1452.6 Q1392.13 1452.6 1389.68 1455.73 Q1387.25 1458.85 1386.9 1465.17 Q1388.27 1463.16 1390.33 1462.09 Q1392.39 1461 1394.86 1461 Q1400.07 1461 1403.08 1464.18 Q1406.11 1467.32 1406.11 1472.76 Q1406.11 1478.09 1402.97 1481.31 Q1399.82 1484.52 1394.59 1484.52 Q1388.59 1484.52 1385.42 1479.94 Q1382.25 1475.33 1382.25 1466.61 Q1382.25 1458.41 1386.14 1453.55 Q1390.03 1448.67 1396.58 1448.67 Q1398.34 1448.67 1400.12 1449.01 Q1401.92 1449.36 1403.87 1450.06 Z\" fill=\"#000000\" fill-rule=\"evenodd\" fill-opacity=\"1\" /><path clip-path=\"url(#clip570)\" d=\"M 0 0 M1843.16 1467.44 Q1839.83 1467.44 1837.91 1469.22 Q1836.01 1471 1836.01 1474.13 Q1836.01 1477.25 1837.91 1479.04 Q1839.83 1480.82 1843.16 1480.82 Q1846.5 1480.82 1848.42 1479.04 Q1850.34 1477.23 1850.34 1474.13 Q1850.34 1471 1848.42 1469.22 Q1846.52 1467.44 1843.16 1467.44 M1838.49 1465.45 Q1835.48 1464.71 1833.79 1462.65 Q1832.12 1460.59 1832.12 1457.63 Q1832.12 1453.48 1835.06 1451.07 Q1838.02 1448.67 1843.16 1448.67 Q1848.32 1448.67 1851.26 1451.07 Q1854.2 1453.48 1854.2 1457.63 Q1854.2 1460.59 1852.51 1462.65 Q1850.85 1464.71 1847.86 1465.45 Q1851.24 1466.24 1853.12 1468.53 Q1855.01 1470.82 1855.01 1474.13 Q1855.01 1479.15 1851.94 1481.84 Q1848.88 1484.52 1843.16 1484.52 Q1837.44 1484.52 1834.37 1481.84 Q1831.31 1479.15 1831.31 1474.13 Q1831.31 1470.82 1833.21 1468.53 Q1835.11 1466.24 1838.49 1465.45 M1836.77 1458.06 Q1836.77 1460.75 1838.44 1462.25 Q1840.13 1463.76 1843.16 1463.76 Q1846.17 1463.76 1847.86 1462.25 Q1849.57 1460.75 1849.57 1458.06 Q1849.57 1455.38 1847.86 1453.88 Q1846.17 1452.37 1843.16 1452.37 Q1840.13 1452.37 1838.44 1453.88 Q1836.77 1455.38 1836.77 1458.06 Z\" fill=\"#000000\" fill-rule=\"evenodd\" fill-opacity=\"1\" /><path clip-path=\"url(#clip570)\" d=\"M 0 0 M2269.02 1479.92 L2276.66 1479.92 L2276.66 1453.55 L2268.35 1455.22 L2268.35 1450.96 L2276.61 1449.29 L2281.29 1449.29 L2281.29 1479.92 L2288.93 1479.92 L2288.93 1483.85 L2269.02 1483.85 L2269.02 1479.92 Z\" fill=\"#000000\" fill-rule=\"evenodd\" fill-opacity=\"1\" /><path clip-path=\"url(#clip570)\" d=\"M 0 0 M2304 1452.37 Q2300.38 1452.37 2298.56 1455.94 Q2296.75 1459.48 2296.75 1466.61 Q2296.75 1473.71 2298.56 1477.28 Q2300.38 1480.82 2304 1480.82 Q2307.63 1480.82 2309.44 1477.28 Q2311.26 1473.71 2311.26 1466.61 Q2311.26 1459.48 2309.44 1455.94 Q2307.63 1452.37 2304 1452.37 M2304 1448.67 Q2309.81 1448.67 2312.86 1453.27 Q2315.94 1457.86 2315.94 1466.61 Q2315.94 1475.33 2312.86 1479.94 Q2309.81 1484.52 2304 1484.52 Q2298.19 1484.52 2295.11 1479.94 Q2292.05 1475.33 2292.05 1466.61 Q2292.05 1457.86 2295.11 1453.27 Q2298.19 1448.67 2304 1448.67 Z\" fill=\"#000000\" fill-rule=\"evenodd\" fill-opacity=\"1\" /><path clip-path=\"url(#clip570)\" d=\"M 0 0 M1136.7 1508.52 L1146.28 1508.52 L1158.41 1540.86 L1170.6 1508.52 L1180.18 1508.52 L1180.18 1556.04 L1173.91 1556.04 L1173.91 1514.32 L1161.66 1546.91 L1155.19 1546.91 L1142.94 1514.32 L1142.94 1556.04 L1136.7 1556.04 L1136.7 1508.52 Z\" fill=\"#000000\" fill-rule=\"evenodd\" fill-opacity=\"1\" /><path clip-path=\"url(#clip570)\" d=\"M 0 0 M1201.16 1559.35 Q1198.67 1565.72 1196.32 1567.66 Q1193.96 1569.6 1190.02 1569.6 L1185.34 1569.6 L1185.34 1564.7 L1188.77 1564.7 Q1191.19 1564.7 1192.53 1563.56 Q1193.87 1562.41 1195.49 1558.14 L1196.54 1555.47 L1182.12 1520.4 L1188.33 1520.4 L1199.47 1548.28 L1210.61 1520.4 L1216.81 1520.4 L1201.16 1559.35 Z\" fill=\"#000000\" fill-rule=\"evenodd\" fill-opacity=\"1\" /><path clip-path=\"url(#clip570)\" d=\"M 0 0 M1273.31 1520.4 L1260.42 1537.74 L1273.98 1556.04 L1267.07 1556.04 L1256.7 1542.04 L1246.32 1556.04 L1239.41 1556.04 L1253.26 1537.39 L1240.59 1520.4 L1247.5 1520.4 L1256.95 1533.1 L1266.4 1520.4 L1273.31 1520.4 Z\" fill=\"#000000\" fill-rule=\"evenodd\" fill-opacity=\"1\" /><path clip-path=\"url(#clip570)\" d=\"M 0 0 M1300.84 1506.52 L1306.7 1506.52 L1306.7 1556.04 L1300.84 1556.04 L1300.84 1506.52 Z\" fill=\"#000000\" fill-rule=\"evenodd\" fill-opacity=\"1\" /><path clip-path=\"url(#clip570)\" d=\"M 0 0 M1329.04 1538.12 Q1321.94 1538.12 1319.21 1539.75 Q1316.47 1541.37 1316.47 1545.29 Q1316.47 1548.4 1318.51 1550.25 Q1320.58 1552.07 1324.11 1552.07 Q1328.98 1552.07 1331.91 1548.63 Q1334.87 1545.16 1334.87 1539.43 L1334.87 1538.12 L1329.04 1538.12 M1340.72 1535.71 L1340.72 1556.04 L1334.87 1556.04 L1334.87 1550.63 Q1332.86 1553.88 1329.87 1555.44 Q1326.88 1556.97 1322.55 1556.97 Q1317.07 1556.97 1313.83 1553.91 Q1310.61 1550.82 1310.61 1545.67 Q1310.61 1539.65 1314.62 1536.6 Q1318.67 1533.54 1326.66 1533.54 L1334.87 1533.54 L1334.87 1532.97 Q1334.87 1528.93 1332.19 1526.73 Q1329.55 1524.5 1324.75 1524.5 Q1321.69 1524.5 1318.79 1525.23 Q1315.9 1525.97 1313.22 1527.43 L1313.22 1522.02 Q1316.44 1520.78 1319.46 1520.17 Q1322.49 1519.54 1325.35 1519.54 Q1333.08 1519.54 1336.9 1523.55 Q1340.72 1527.56 1340.72 1535.71 Z\" fill=\"#000000\" fill-rule=\"evenodd\" fill-opacity=\"1\" /><path clip-path=\"url(#clip570)\" d=\"M 0 0 M1372.46 1538.25 Q1372.46 1531.79 1369.78 1528.13 Q1367.14 1524.44 1362.49 1524.44 Q1357.85 1524.44 1355.17 1528.13 Q1352.53 1531.79 1352.53 1538.25 Q1352.53 1544.71 1355.17 1548.4 Q1357.85 1552.07 1362.49 1552.07 Q1367.14 1552.07 1369.78 1548.4 Q1372.46 1544.71 1372.46 1538.25 M1352.53 1525.81 Q1354.38 1522.62 1357.18 1521.1 Q1360.01 1519.54 1363.93 1519.54 Q1370.42 1519.54 1374.46 1524.69 Q1378.54 1529.85 1378.54 1538.25 Q1378.54 1546.65 1374.46 1551.81 Q1370.42 1556.97 1363.93 1556.97 Q1360.01 1556.97 1357.18 1555.44 Q1354.38 1553.88 1352.53 1550.7 L1352.53 1556.04 L1346.64 1556.04 L1346.64 1506.52 L1352.53 1506.52 L1352.53 1525.81 Z\" fill=\"#000000\" fill-rule=\"evenodd\" fill-opacity=\"1\" /><path clip-path=\"url(#clip570)\" d=\"M 0 0 M1415.17 1536.76 L1415.17 1539.62 L1388.24 1539.62 Q1388.63 1545.67 1391.87 1548.85 Q1395.15 1552 1400.97 1552 Q1404.35 1552 1407.5 1551.17 Q1410.68 1550.35 1413.8 1548.69 L1413.8 1554.23 Q1410.65 1555.57 1407.34 1556.27 Q1404.03 1556.97 1400.62 1556.97 Q1392.09 1556.97 1387.1 1552 Q1382.13 1547.04 1382.13 1538.57 Q1382.13 1529.82 1386.84 1524.69 Q1391.59 1519.54 1399.61 1519.54 Q1406.8 1519.54 1410.97 1524.18 Q1415.17 1528.8 1415.17 1536.76 M1409.31 1535.04 Q1409.25 1530.23 1406.61 1527.37 Q1404 1524.5 1399.67 1524.5 Q1394.77 1524.5 1391.81 1527.27 Q1388.88 1530.04 1388.43 1535.07 L1409.31 1535.04 Z\" fill=\"#000000\" fill-rule=\"evenodd\" fill-opacity=\"1\" /><path clip-path=\"url(#clip570)\" d=\"M 0 0 M1421.31 1506.52 L1427.17 1506.52 L1427.17 1556.04 L1421.31 1556.04 L1421.31 1506.52 Z\" fill=\"#000000\" fill-rule=\"evenodd\" fill-opacity=\"1\" /><polyline clip-path=\"url(#clip572)\" style=\"stroke:#000000; stroke-width:2; stroke-opacity:0.1; fill:none\" points=\"\n",
       "  211.116,1401.75 2352.76,1401.75 \n",
       "  \"/>\n",
       "<polyline clip-path=\"url(#clip572)\" style=\"stroke:#000000; stroke-width:2; stroke-opacity:0.1; fill:none\" points=\"\n",
       "  211.116,985.513 2352.76,985.513 \n",
       "  \"/>\n",
       "<polyline clip-path=\"url(#clip572)\" style=\"stroke:#000000; stroke-width:2; stroke-opacity:0.1; fill:none\" points=\"\n",
       "  211.116,569.277 2352.76,569.277 \n",
       "  \"/>\n",
       "<polyline clip-path=\"url(#clip572)\" style=\"stroke:#000000; stroke-width:2; stroke-opacity:0.1; fill:none\" points=\"\n",
       "  211.116,153.04 2352.76,153.04 \n",
       "  \"/>\n",
       "<polyline clip-path=\"url(#clip570)\" style=\"stroke:#000000; stroke-width:4; stroke-opacity:1; fill:none\" points=\"\n",
       "  211.116,1423.18 211.116,123.472 \n",
       "  \"/>\n",
       "<polyline clip-path=\"url(#clip570)\" style=\"stroke:#000000; stroke-width:4; stroke-opacity:1; fill:none\" points=\"\n",
       "  211.116,1401.75 236.816,1401.75 \n",
       "  \"/>\n",
       "<polyline clip-path=\"url(#clip570)\" style=\"stroke:#000000; stroke-width:4; stroke-opacity:1; fill:none\" points=\"\n",
       "  211.116,985.513 236.816,985.513 \n",
       "  \"/>\n",
       "<polyline clip-path=\"url(#clip570)\" style=\"stroke:#000000; stroke-width:4; stroke-opacity:1; fill:none\" points=\"\n",
       "  211.116,569.277 236.816,569.277 \n",
       "  \"/>\n",
       "<polyline clip-path=\"url(#clip570)\" style=\"stroke:#000000; stroke-width:4; stroke-opacity:1; fill:none\" points=\"\n",
       "  211.116,153.04 236.816,153.04 \n",
       "  \"/>\n",
       "<path clip-path=\"url(#clip570)\" d=\"M 0 0 M126.205 1387.55 Q122.593 1387.55 120.765 1391.11 Q118.959 1394.65 118.959 1401.78 Q118.959 1408.89 120.765 1412.46 Q122.593 1416 126.205 1416 Q129.839 1416 131.644 1412.46 Q133.473 1408.89 133.473 1401.78 Q133.473 1394.65 131.644 1391.11 Q129.839 1387.55 126.205 1387.55 M126.205 1383.84 Q132.015 1383.84 135.07 1388.45 Q138.149 1393.03 138.149 1401.78 Q138.149 1410.51 135.07 1415.12 Q132.015 1419.7 126.205 1419.7 Q120.394 1419.7 117.316 1415.12 Q114.26 1410.51 114.26 1401.78 Q114.26 1393.03 117.316 1388.45 Q120.394 1383.84 126.205 1383.84 Z\" fill=\"#000000\" fill-rule=\"evenodd\" fill-opacity=\"1\" /><path clip-path=\"url(#clip570)\" d=\"M 0 0 M143.218 1413.15 L148.103 1413.15 L148.103 1419.03 L143.218 1419.03 L143.218 1413.15 Z\" fill=\"#000000\" fill-rule=\"evenodd\" fill-opacity=\"1\" /><path clip-path=\"url(#clip570)\" d=\"M 0 0 M163.172 1387.55 Q159.561 1387.55 157.732 1391.11 Q155.927 1394.65 155.927 1401.78 Q155.927 1408.89 157.732 1412.46 Q159.561 1416 163.172 1416 Q166.806 1416 168.612 1412.46 Q170.44 1408.89 170.44 1401.78 Q170.44 1394.65 168.612 1391.11 Q166.806 1387.55 163.172 1387.55 M163.172 1383.84 Q168.982 1383.84 172.038 1388.45 Q175.116 1393.03 175.116 1401.78 Q175.116 1410.51 172.038 1415.12 Q168.982 1419.7 163.172 1419.7 Q157.362 1419.7 154.283 1415.12 Q151.228 1410.51 151.228 1401.78 Q151.228 1393.03 154.283 1388.45 Q157.362 1383.84 163.172 1383.84 Z\" fill=\"#000000\" fill-rule=\"evenodd\" fill-opacity=\"1\" /><path clip-path=\"url(#clip570)\" d=\"M 0 0 M127.2 971.312 Q123.589 971.312 121.76 974.877 Q119.955 978.418 119.955 985.548 Q119.955 992.654 121.76 996.219 Q123.589 999.761 127.2 999.761 Q130.834 999.761 132.64 996.219 Q134.468 992.654 134.468 985.548 Q134.468 978.418 132.64 974.877 Q130.834 971.312 127.2 971.312 M127.2 967.608 Q133.01 967.608 136.066 972.215 Q139.144 976.798 139.144 985.548 Q139.144 994.275 136.066 998.881 Q133.01 1003.46 127.2 1003.46 Q121.39 1003.46 118.311 998.881 Q115.256 994.275 115.256 985.548 Q115.256 976.798 118.311 972.215 Q121.39 967.608 127.2 967.608 Z\" fill=\"#000000\" fill-rule=\"evenodd\" fill-opacity=\"1\" /><path clip-path=\"url(#clip570)\" d=\"M 0 0 M144.214 996.914 L149.098 996.914 L149.098 1002.79 L144.214 1002.79 L144.214 996.914 Z\" fill=\"#000000\" fill-rule=\"evenodd\" fill-opacity=\"1\" /><path clip-path=\"url(#clip570)\" d=\"M 0 0 M154.214 968.233 L172.57 968.233 L172.57 972.168 L158.496 972.168 L158.496 980.641 Q159.515 980.293 160.533 980.131 Q161.552 979.946 162.57 979.946 Q168.357 979.946 171.737 983.117 Q175.116 986.289 175.116 991.705 Q175.116 997.284 171.644 1000.39 Q168.172 1003.46 161.852 1003.46 Q159.677 1003.46 157.408 1003.09 Q155.163 1002.72 152.755 1001.98 L152.755 997.284 Q154.839 998.418 157.061 998.974 Q159.283 999.529 161.76 999.529 Q165.765 999.529 168.102 997.423 Q170.44 995.316 170.44 991.705 Q170.44 988.094 168.102 985.988 Q165.765 983.881 161.76 983.881 Q159.885 983.881 158.01 984.298 Q156.158 984.715 154.214 985.594 L154.214 968.233 Z\" fill=\"#000000\" fill-rule=\"evenodd\" fill-opacity=\"1\" /><path clip-path=\"url(#clip570)\" d=\"M 0 0 M118.242 582.622 L125.88 582.622 L125.88 556.256 L117.57 557.923 L117.57 553.663 L125.834 551.997 L130.51 551.997 L130.51 582.622 L138.149 582.622 L138.149 586.557 L118.242 586.557 L118.242 582.622 Z\" fill=\"#000000\" fill-rule=\"evenodd\" fill-opacity=\"1\" /><path clip-path=\"url(#clip570)\" d=\"M 0 0 M143.218 580.677 L148.103 580.677 L148.103 586.557 L143.218 586.557 L143.218 580.677 Z\" fill=\"#000000\" fill-rule=\"evenodd\" fill-opacity=\"1\" /><path clip-path=\"url(#clip570)\" d=\"M 0 0 M163.172 555.075 Q159.561 555.075 157.732 558.64 Q155.927 562.182 155.927 569.311 Q155.927 576.418 157.732 579.983 Q159.561 583.524 163.172 583.524 Q166.806 583.524 168.612 579.983 Q170.44 576.418 170.44 569.311 Q170.44 562.182 168.612 558.64 Q166.806 555.075 163.172 555.075 M163.172 551.372 Q168.982 551.372 172.038 555.978 Q175.116 560.562 175.116 569.311 Q175.116 578.038 172.038 582.645 Q168.982 587.228 163.172 587.228 Q157.362 587.228 154.283 582.645 Q151.228 578.038 151.228 569.311 Q151.228 560.562 154.283 555.978 Q157.362 551.372 163.172 551.372 Z\" fill=\"#000000\" fill-rule=\"evenodd\" fill-opacity=\"1\" /><path clip-path=\"url(#clip570)\" d=\"M 0 0 M119.237 166.385 L126.876 166.385 L126.876 140.02 L118.566 141.686 L118.566 137.427 L126.83 135.76 L131.505 135.76 L131.505 166.385 L139.144 166.385 L139.144 170.32 L119.237 170.32 L119.237 166.385 Z\" fill=\"#000000\" fill-rule=\"evenodd\" fill-opacity=\"1\" /><path clip-path=\"url(#clip570)\" d=\"M 0 0 M144.214 164.441 L149.098 164.441 L149.098 170.32 L144.214 170.32 L144.214 164.441 Z\" fill=\"#000000\" fill-rule=\"evenodd\" fill-opacity=\"1\" /><path clip-path=\"url(#clip570)\" d=\"M 0 0 M154.214 135.76 L172.57 135.76 L172.57 139.696 L158.496 139.696 L158.496 148.168 Q159.515 147.821 160.533 147.658 Q161.552 147.473 162.57 147.473 Q168.357 147.473 171.737 150.645 Q175.116 153.816 175.116 159.232 Q175.116 164.811 171.644 167.913 Q168.172 170.992 161.852 170.992 Q159.677 170.992 157.408 170.621 Q155.163 170.251 152.755 169.51 L152.755 164.811 Q154.839 165.945 157.061 166.501 Q159.283 167.057 161.76 167.057 Q165.765 167.057 168.102 164.95 Q170.44 162.844 170.44 159.232 Q170.44 155.621 168.102 153.515 Q165.765 151.408 161.76 151.408 Q159.885 151.408 158.01 151.825 Q156.158 152.242 154.214 153.121 L154.214 135.76 Z\" fill=\"#000000\" fill-rule=\"evenodd\" fill-opacity=\"1\" /><path clip-path=\"url(#clip570)\" d=\"M 0 0 M40.4842 918.655 L40.4842 909.075 L72.8219 896.948 L40.4842 884.758 L40.4842 875.177 L88.0042 875.177 L88.0042 881.448 L46.277 881.448 L78.8694 893.701 L78.8694 900.163 L46.277 912.417 L88.0042 912.417 L88.0042 918.655 L40.4842 918.655 Z\" fill=\"#000000\" fill-rule=\"evenodd\" fill-opacity=\"1\" /><path clip-path=\"url(#clip570)\" d=\"M 0 0 M91.3143 854.202 Q97.68 856.685 99.6216 859.04 Q101.563 861.396 101.563 865.342 L101.563 870.021 L96.6615 870.021 L96.6615 866.584 Q96.6615 864.165 95.5157 862.828 Q94.3699 861.491 90.1048 859.868 L87.4312 858.817 L52.3562 873.236 L52.3562 867.029 L80.238 855.889 L52.3562 844.749 L52.3562 838.543 L91.3143 854.202 Z\" fill=\"#000000\" fill-rule=\"evenodd\" fill-opacity=\"1\" /><path clip-path=\"url(#clip570)\" d=\"M 0 0 M91.3143 796.847 Q97.68 799.33 99.6216 801.685 Q101.563 804.041 101.563 807.987 L101.563 812.666 L96.6615 812.666 L96.6615 809.229 Q96.6615 806.81 95.5157 805.473 Q94.3699 804.136 90.1048 802.513 L87.4312 801.462 L52.3562 815.881 L52.3562 809.674 L80.238 798.534 L52.3562 787.394 L52.3562 781.188 L91.3143 796.847 Z\" fill=\"#000000\" fill-rule=\"evenodd\" fill-opacity=\"1\" /><path clip-path=\"url(#clip570)\" d=\"M 0 0 M38.479 754.324 L38.479 748.468 L88.0042 748.468 L88.0042 754.324 L38.479 754.324 Z\" fill=\"#000000\" fill-rule=\"evenodd\" fill-opacity=\"1\" /><path clip-path=\"url(#clip570)\" d=\"M 0 0 M70.0847 726.124 Q70.0847 733.222 71.7079 735.959 Q73.3312 738.697 77.2461 738.697 Q80.3653 738.697 82.2114 736.66 Q84.0256 734.591 84.0256 731.058 Q84.0256 726.188 80.5881 723.26 Q77.1188 720.3 71.3897 720.3 L70.0847 720.3 L70.0847 726.124 M67.6657 714.443 L88.0042 714.443 L88.0042 720.3 L82.5933 720.3 Q85.8398 722.305 87.3994 725.297 Q88.9272 728.289 88.9272 732.617 Q88.9272 738.092 85.8716 741.338 Q82.7843 744.553 77.6281 744.553 Q71.6125 744.553 68.5569 740.543 Q65.5014 736.5 65.5014 728.511 L65.5014 720.3 L64.9285 720.3 Q60.8862 720.3 58.6901 722.973 Q56.4621 725.615 56.4621 730.421 Q56.4621 733.477 57.1941 736.373 Q57.9262 739.269 59.3903 741.943 L53.9795 741.943 Q52.7381 738.728 52.1334 735.705 Q51.4968 732.681 51.4968 729.816 Q51.4968 722.082 55.5072 718.263 Q59.5176 714.443 67.6657 714.443 Z\" fill=\"#000000\" fill-rule=\"evenodd\" fill-opacity=\"1\" /><path clip-path=\"url(#clip570)\" d=\"M 0 0 M70.212 682.71 Q63.7508 682.71 60.0905 685.384 Q56.3984 688.026 56.3984 692.672 Q56.3984 697.319 60.0905 699.993 Q63.7508 702.635 70.212 702.635 Q76.6732 702.635 80.3653 699.993 Q84.0256 697.319 84.0256 692.672 Q84.0256 688.026 80.3653 685.384 Q76.6732 682.71 70.212 682.71 M57.7671 702.635 Q54.5842 700.789 53.0564 697.988 Q51.4968 695.155 51.4968 691.24 Q51.4968 684.747 56.6531 680.705 Q61.8093 676.631 70.212 676.631 Q78.6147 676.631 83.771 680.705 Q88.9272 684.747 88.9272 691.24 Q88.9272 695.155 87.3994 697.988 Q85.8398 700.789 82.657 702.635 L88.0042 702.635 L88.0042 708.523 L38.479 708.523 L38.479 702.635 L57.7671 702.635 Z\" fill=\"#000000\" fill-rule=\"evenodd\" fill-opacity=\"1\" /><path clip-path=\"url(#clip570)\" d=\"M 0 0 M68.7161 639.996 L71.5806 639.996 L71.5806 666.923 Q77.6281 666.541 80.8109 663.295 Q83.9619 660.016 83.9619 654.192 Q83.9619 650.818 83.1344 647.667 Q82.3069 644.484 80.6518 641.365 L86.1899 641.365 Q87.5267 644.516 88.227 647.826 Q88.9272 651.136 88.9272 654.542 Q88.9272 663.072 83.9619 668.069 Q78.9967 673.034 70.5303 673.034 Q61.7774 673.034 56.6531 668.324 Q51.4968 663.581 51.4968 655.56 Q51.4968 648.367 56.1438 644.198 Q60.7589 639.996 68.7161 639.996 M66.9973 645.853 Q62.1912 645.916 59.3266 648.558 Q56.4621 651.168 56.4621 655.497 Q56.4621 660.398 59.2312 663.358 Q62.0002 666.287 67.0292 666.732 L66.9973 645.853 Z\" fill=\"#000000\" fill-rule=\"evenodd\" fill-opacity=\"1\" /><path clip-path=\"url(#clip570)\" d=\"M 0 0 M38.479 633.853 L38.479 627.997 L88.0042 627.997 L88.0042 633.853 L38.479 633.853 Z\" fill=\"#000000\" fill-rule=\"evenodd\" fill-opacity=\"1\" /><path clip-path=\"url(#clip570)\" d=\"M 0 0 M1098.55 12.096 L1149.71 12.096 L1149.71 18.9825 L1128.24 18.9825 L1128.24 72.576 L1120.02 72.576 L1120.02 18.9825 L1098.55 18.9825 L1098.55 12.096 Z\" fill=\"#000000\" fill-rule=\"evenodd\" fill-opacity=\"1\" /><path clip-path=\"url(#clip570)\" d=\"M 0 0 M1139.47 27.2059 L1146.92 27.2059 L1156.24 62.6108 L1165.51 27.2059 L1174.3 27.2059 L1183.62 62.6108 L1192.9 27.2059 L1200.35 27.2059 L1188.48 72.576 L1179.69 72.576 L1169.93 35.3887 L1160.13 72.576 L1151.33 72.576 L1139.47 27.2059 Z\" fill=\"#000000\" fill-rule=\"evenodd\" fill-opacity=\"1\" /><path clip-path=\"url(#clip570)\" d=\"M 0 0 M1225.75 32.4315 Q1219.75 32.4315 1216.27 37.1306 Q1212.79 41.7891 1212.79 49.9314 Q1212.79 58.0738 1216.23 62.7728 Q1219.71 67.4314 1225.75 67.4314 Q1231.7 67.4314 1235.19 62.7323 Q1238.67 58.0333 1238.67 49.9314 Q1238.67 41.8701 1235.19 37.1711 Q1231.7 32.4315 1225.75 32.4315 M1225.75 26.1121 Q1235.47 26.1121 1241.02 32.4315 Q1246.57 38.7509 1246.57 49.9314 Q1246.57 61.0714 1241.02 67.4314 Q1235.47 73.7508 1225.75 73.7508 Q1215.99 73.7508 1210.44 67.4314 Q1204.93 61.0714 1204.93 49.9314 Q1204.93 38.7509 1210.44 32.4315 Q1215.99 26.1121 1225.75 26.1121 Z\" fill=\"#000000\" fill-rule=\"evenodd\" fill-opacity=\"1\" /><path clip-path=\"url(#clip570)\" d=\"M 0 0 M1281.09 12.096 L1289.27 12.096 L1289.27 65.6895 L1318.72 65.6895 L1318.72 72.576 L1281.09 72.576 L1281.09 12.096 Z\" fill=\"#000000\" fill-rule=\"evenodd\" fill-opacity=\"1\" /><path clip-path=\"url(#clip570)\" d=\"M 0 0 M1326.54 27.2059 L1333.99 27.2059 L1333.99 72.576 L1326.54 72.576 L1326.54 27.2059 M1326.54 9.54393 L1333.99 9.54393 L1333.99 18.9825 L1326.54 18.9825 L1326.54 9.54393 Z\" fill=\"#000000\" fill-rule=\"evenodd\" fill-opacity=\"1\" /><path clip-path=\"url(#clip570)\" d=\"M 0 0 M1379.52 45.1919 L1379.52 72.576 L1372.07 72.576 L1372.07 45.4349 Q1372.07 38.994 1369.56 35.7938 Q1367.05 32.5936 1362.02 32.5936 Q1355.99 32.5936 1352.5 36.4419 Q1349.02 40.2903 1349.02 46.9338 L1349.02 72.576 L1341.52 72.576 L1341.52 27.2059 L1349.02 27.2059 L1349.02 34.2544 Q1351.69 30.163 1355.3 28.1376 Q1358.94 26.1121 1363.68 26.1121 Q1371.5 26.1121 1375.51 30.9732 Q1379.52 35.7938 1379.52 45.1919 Z\" fill=\"#000000\" fill-rule=\"evenodd\" fill-opacity=\"1\" /><path clip-path=\"url(#clip570)\" d=\"M 0 0 M1426.15 48.0275 L1426.15 51.6733 L1391.88 51.6733 Q1392.36 59.3701 1396.5 63.421 Q1400.67 67.4314 1408.08 67.4314 Q1412.38 67.4314 1416.39 66.3781 Q1420.44 65.3249 1424.41 63.2184 L1424.41 70.267 Q1420.4 71.9684 1416.18 72.8596 Q1411.97 73.7508 1407.64 73.7508 Q1396.78 73.7508 1390.42 67.4314 Q1384.1 61.1119 1384.1 50.3365 Q1384.1 39.1965 1390.1 32.6746 Q1396.13 26.1121 1406.34 26.1121 Q1415.49 26.1121 1420.8 32.0264 Q1426.15 37.9003 1426.15 48.0275 M1418.69 45.84 Q1418.61 39.7232 1415.25 36.0774 Q1411.93 32.4315 1406.42 32.4315 Q1400.18 32.4315 1396.41 35.9558 Q1392.69 39.4801 1392.12 45.8805 L1418.69 45.84 Z\" fill=\"#000000\" fill-rule=\"evenodd\" fill-opacity=\"1\" /><path clip-path=\"url(#clip570)\" d=\"M 0 0 M1462.89 28.5427 L1462.89 35.5912 Q1459.73 33.9709 1456.33 33.1607 Q1452.92 32.3505 1449.28 32.3505 Q1443.73 32.3505 1440.93 34.0519 Q1438.18 35.7533 1438.18 39.156 Q1438.18 41.7486 1440.16 43.2475 Q1442.15 44.7058 1448.14 46.0426 L1450.7 46.6097 Q1458.64 48.3111 1461.96 51.4303 Q1465.32 54.509 1465.32 60.0587 Q1465.32 66.3781 1460.3 70.0644 Q1455.31 73.7508 1446.56 73.7508 Q1442.92 73.7508 1438.95 73.0216 Q1435.02 72.3329 1430.64 70.9151 L1430.64 63.2184 Q1434.78 65.3654 1438.79 66.4591 Q1442.8 67.5124 1446.73 67.5124 Q1451.99 67.5124 1454.83 65.73 Q1457.66 63.9071 1457.66 60.6258 Q1457.66 57.5877 1455.6 55.9673 Q1453.57 54.3469 1446.65 52.8481 L1444.05 52.2405 Q1437.13 50.7821 1434.05 47.7845 Q1430.97 44.7463 1430.97 39.4801 Q1430.97 33.0797 1435.51 29.5959 Q1440.04 26.1121 1448.39 26.1121 Q1452.52 26.1121 1456.17 26.7198 Q1459.81 27.3274 1462.89 28.5427 Z\" fill=\"#000000\" fill-rule=\"evenodd\" fill-opacity=\"1\" /><polyline clip-path=\"url(#clip572)\" style=\"stroke:#009af9; stroke-width:12; stroke-opacity:1; fill:none\" points=\"\n",
       "  271.729,966.96 496.219,1349.07 720.71,642.371 945.2,1228.73 1169.69,1068.06 1394.18,957.379 1618.67,1106.02 1843.16,587.231 2067.65,919.205 2292.14,838.186 \n",
       "  \n",
       "  \"/>\n",
       "<polyline clip-path=\"url(#clip572)\" style=\"stroke:#e26f46; stroke-width:12; stroke-opacity:1; fill:none\" points=\"\n",
       "  271.729,1136.16 496.219,1334.76 720.71,741.795 945.2,1024.74 1169.69,1386.4 1394.18,787.676 1618.67,876.579 1843.16,815.629 2067.65,1130.61 2292.14,576.493 \n",
       "  \n",
       "  \"/>\n",
       "<polyline clip-path=\"url(#clip572)\" style=\"stroke:#3da44d; stroke-width:12; stroke-opacity:1; fill:none\" points=\"\n",
       "  271.729,550.723 496.219,932.836 720.71,226.135 945.2,812.493 1169.69,651.824 1394.18,541.142 1618.67,689.788 1843.16,170.994 2067.65,502.969 2292.14,421.949 \n",
       "  \n",
       "  \"/>\n",
       "<polyline clip-path=\"url(#clip572)\" style=\"stroke:#c271d2; stroke-width:12; stroke-opacity:1; fill:none\" points=\"\n",
       "  271.729,719.919 496.219,918.523 720.71,325.559 945.2,608.499 1169.69,970.159 1394.18,371.439 1618.67,460.343 1843.16,399.393 2067.65,714.371 2292.14,160.256 \n",
       "  \n",
       "  \"/>\n",
       "<path clip-path=\"url(#clip570)\" d=\"\n",
       "M1754.22 469.196 L2281.37 469.196 L2281.37 166.796 L1754.22 166.796  Z\n",
       "  \" fill=\"#ffffff\" fill-rule=\"evenodd\" fill-opacity=\"1\"/>\n",
       "<polyline clip-path=\"url(#clip570)\" style=\"stroke:#000000; stroke-width:4; stroke-opacity:1; fill:none\" points=\"\n",
       "  1754.22,469.196 2281.37,469.196 2281.37,166.796 1754.22,166.796 1754.22,469.196 \n",
       "  \"/>\n",
       "<polyline clip-path=\"url(#clip570)\" style=\"stroke:#009af9; stroke-width:4; stroke-opacity:1; fill:none\" points=\"\n",
       "  1778.02,227.276 1920.79,227.276 \n",
       "  \"/>\n",
       "<path clip-path=\"url(#clip570)\" d=\"M 0 0 M1944.59 209.996 L1949.26 209.996 L1949.26 240.621 L1966.09 240.621 L1966.09 244.556 L1944.59 244.556 L1944.59 209.996 Z\" fill=\"#000000\" fill-rule=\"evenodd\" fill-opacity=\"1\" /><path clip-path=\"url(#clip570)\" d=\"M 0 0 M1970.56 218.63 L1974.82 218.63 L1974.82 244.556 L1970.56 244.556 L1970.56 218.63 M1970.56 208.537 L1974.82 208.537 L1974.82 213.931 L1970.56 213.931 L1970.56 208.537 Z\" fill=\"#000000\" fill-rule=\"evenodd\" fill-opacity=\"1\" /><path clip-path=\"url(#clip570)\" d=\"M 0 0 M2000.84 228.908 L2000.84 244.556 L1996.58 244.556 L1996.58 229.047 Q1996.58 225.366 1995.14 223.537 Q1993.71 221.709 1990.84 221.709 Q1987.39 221.709 1985.4 223.908 Q1983.41 226.107 1983.41 229.903 L1983.41 244.556 L1979.12 244.556 L1979.12 218.63 L1983.41 218.63 L1983.41 222.658 Q1984.93 220.32 1986.99 219.162 Q1989.08 218.005 1991.79 218.005 Q1996.25 218.005 1998.55 220.783 Q2000.84 223.537 2000.84 228.908 Z\" fill=\"#000000\" fill-rule=\"evenodd\" fill-opacity=\"1\" /><path clip-path=\"url(#clip570)\" d=\"M 0 0 M2027.48 230.528 L2027.48 232.611 L2007.9 232.611 Q2008.18 237.009 2010.54 239.324 Q2012.92 241.616 2017.16 241.616 Q2019.61 241.616 2021.9 241.014 Q2024.22 240.412 2026.49 239.209 L2026.49 243.236 Q2024.19 244.208 2021.79 244.718 Q2019.38 245.227 2016.9 245.227 Q2010.7 245.227 2007.06 241.616 Q2003.45 238.005 2003.45 231.847 Q2003.45 225.482 2006.88 221.755 Q2010.33 218.005 2016.16 218.005 Q2021.39 218.005 2024.43 221.385 Q2027.48 224.741 2027.48 230.528 M2023.22 229.278 Q2023.18 225.783 2021.25 223.699 Q2019.36 221.616 2016.21 221.616 Q2012.64 221.616 2010.49 223.63 Q2008.36 225.644 2008.04 229.301 L2023.22 229.278 Z\" fill=\"#000000\" fill-rule=\"evenodd\" fill-opacity=\"1\" /><path clip-path=\"url(#clip570)\" d=\"M 0 0 M2048.43 240.621 L2056.07 240.621 L2056.07 214.255 L2047.76 215.922 L2047.76 211.662 L2056.02 209.996 L2060.7 209.996 L2060.7 240.621 L2068.34 240.621 L2068.34 244.556 L2048.43 244.556 L2048.43 240.621 Z\" fill=\"#000000\" fill-rule=\"evenodd\" fill-opacity=\"1\" /><polyline clip-path=\"url(#clip570)\" style=\"stroke:#e26f46; stroke-width:4; stroke-opacity:1; fill:none\" points=\"\n",
       "  1778.02,287.756 1920.79,287.756 \n",
       "  \"/>\n",
       "<path clip-path=\"url(#clip570)\" d=\"M 0 0 M1944.59 270.476 L1949.26 270.476 L1949.26 301.101 L1966.09 301.101 L1966.09 305.036 L1944.59 305.036 L1944.59 270.476 Z\" fill=\"#000000\" fill-rule=\"evenodd\" fill-opacity=\"1\" /><path clip-path=\"url(#clip570)\" d=\"M 0 0 M1970.56 279.11 L1974.82 279.11 L1974.82 305.036 L1970.56 305.036 L1970.56 279.11 M1970.56 269.017 L1974.82 269.017 L1974.82 274.411 L1970.56 274.411 L1970.56 269.017 Z\" fill=\"#000000\" fill-rule=\"evenodd\" fill-opacity=\"1\" /><path clip-path=\"url(#clip570)\" d=\"M 0 0 M2000.84 289.388 L2000.84 305.036 L1996.58 305.036 L1996.58 289.527 Q1996.58 285.846 1995.14 284.017 Q1993.71 282.189 1990.84 282.189 Q1987.39 282.189 1985.4 284.388 Q1983.41 286.587 1983.41 290.383 L1983.41 305.036 L1979.12 305.036 L1979.12 279.11 L1983.41 279.11 L1983.41 283.138 Q1984.93 280.8 1986.99 279.642 Q1989.08 278.485 1991.79 278.485 Q1996.25 278.485 1998.55 281.263 Q2000.84 284.017 2000.84 289.388 Z\" fill=\"#000000\" fill-rule=\"evenodd\" fill-opacity=\"1\" /><path clip-path=\"url(#clip570)\" d=\"M 0 0 M2027.48 291.008 L2027.48 293.091 L2007.9 293.091 Q2008.18 297.489 2010.54 299.804 Q2012.92 302.096 2017.16 302.096 Q2019.61 302.096 2021.9 301.494 Q2024.22 300.892 2026.49 299.689 L2026.49 303.716 Q2024.19 304.688 2021.79 305.198 Q2019.38 305.707 2016.9 305.707 Q2010.7 305.707 2007.06 302.096 Q2003.45 298.485 2003.45 292.327 Q2003.45 285.962 2006.88 282.235 Q2010.33 278.485 2016.16 278.485 Q2021.39 278.485 2024.43 281.865 Q2027.48 285.221 2027.48 291.008 M2023.22 289.758 Q2023.18 286.263 2021.25 284.179 Q2019.36 282.096 2016.21 282.096 Q2012.64 282.096 2010.49 284.11 Q2008.36 286.124 2008.04 289.781 L2023.22 289.758 Z\" fill=\"#000000\" fill-rule=\"evenodd\" fill-opacity=\"1\" /><path clip-path=\"url(#clip570)\" d=\"M 0 0 M2051.65 301.101 L2067.97 301.101 L2067.97 305.036 L2046.02 305.036 L2046.02 301.101 Q2048.68 298.346 2053.27 293.716 Q2057.87 289.064 2059.05 287.721 Q2061.3 285.198 2062.18 283.462 Q2063.08 281.703 2063.08 280.013 Q2063.08 277.258 2061.14 275.522 Q2059.22 273.786 2056.11 273.786 Q2053.92 273.786 2051.46 274.55 Q2049.03 275.314 2046.25 276.865 L2046.25 272.142 Q2049.08 271.008 2051.53 270.429 Q2053.99 269.851 2056.02 269.851 Q2061.39 269.851 2064.59 272.536 Q2067.78 275.221 2067.78 279.712 Q2067.78 281.841 2066.97 283.763 Q2066.18 285.661 2064.08 288.253 Q2063.5 288.925 2060.4 292.142 Q2057.3 295.337 2051.65 301.101 Z\" fill=\"#000000\" fill-rule=\"evenodd\" fill-opacity=\"1\" /><polyline clip-path=\"url(#clip570)\" style=\"stroke:#3da44d; stroke-width:4; stroke-opacity:1; fill:none\" points=\"\n",
       "  1778.02,348.236 1920.79,348.236 \n",
       "  \"/>\n",
       "<path clip-path=\"url(#clip570)\" d=\"M 0 0 M1966.83 332.09 L1966.83 336.65 Q1964.17 335.377 1961.81 334.752 Q1959.45 334.127 1957.25 334.127 Q1953.43 334.127 1951.35 335.608 Q1949.29 337.09 1949.29 339.821 Q1949.29 342.113 1950.65 343.294 Q1952.04 344.451 1955.88 345.169 L1958.71 345.747 Q1963.94 346.743 1966.42 349.266 Q1968.92 351.766 1968.92 355.979 Q1968.92 361.002 1965.54 363.594 Q1962.18 366.187 1955.68 366.187 Q1953.22 366.187 1950.44 365.631 Q1947.69 365.076 1944.73 363.988 L1944.73 359.173 Q1947.57 360.77 1950.31 361.581 Q1953.04 362.391 1955.68 362.391 Q1959.68 362.391 1961.86 360.817 Q1964.03 359.243 1964.03 356.326 Q1964.03 353.78 1962.46 352.344 Q1960.91 350.909 1957.34 350.192 L1954.5 349.636 Q1949.26 348.595 1946.93 346.372 Q1944.59 344.15 1944.59 340.192 Q1944.59 335.608 1947.81 332.97 Q1951.05 330.331 1956.72 330.331 Q1959.15 330.331 1961.67 330.771 Q1964.19 331.21 1966.83 332.09 Z\" fill=\"#000000\" fill-rule=\"evenodd\" fill-opacity=\"1\" /><path clip-path=\"url(#clip570)\" d=\"M 0 0 M1994.93 349.868 L1994.93 365.516 L1990.68 365.516 L1990.68 350.007 Q1990.68 346.326 1989.24 344.497 Q1987.81 342.669 1984.93 342.669 Q1981.49 342.669 1979.49 344.868 Q1977.5 347.067 1977.5 350.863 L1977.5 365.516 L1973.22 365.516 L1973.22 329.497 L1977.5 329.497 L1977.5 343.618 Q1979.03 341.28 1981.09 340.122 Q1983.18 338.965 1985.88 338.965 Q1990.35 338.965 1992.64 341.743 Q1994.93 344.497 1994.93 349.868 Z\" fill=\"#000000\" fill-rule=\"evenodd\" fill-opacity=\"1\" /><path clip-path=\"url(#clip570)\" d=\"M 0 0 M1999.4 339.59 L2003.66 339.59 L2003.66 365.516 L1999.4 365.516 L1999.4 339.59 M1999.4 329.497 L2003.66 329.497 L2003.66 334.891 L1999.4 334.891 L1999.4 329.497 Z\" fill=\"#000000\" fill-rule=\"evenodd\" fill-opacity=\"1\" /><path clip-path=\"url(#clip570)\" d=\"M 0 0 M2021.25 329.497 L2021.25 333.039 L2017.18 333.039 Q2014.89 333.039 2013.99 333.965 Q2013.11 334.891 2013.11 337.298 L2013.11 339.59 L2020.12 339.59 L2020.12 342.9 L2013.11 342.9 L2013.11 365.516 L2008.82 365.516 L2008.82 342.9 L2004.75 342.9 L2004.75 339.59 L2008.82 339.59 L2008.82 337.784 Q2008.82 333.456 2010.84 331.488 Q2012.85 329.497 2017.23 329.497 L2021.25 329.497 Z\" fill=\"#000000\" fill-rule=\"evenodd\" fill-opacity=\"1\" /><path clip-path=\"url(#clip570)\" d=\"M 0 0 M2029.1 332.229 L2029.1 339.59 L2037.87 339.59 L2037.87 342.9 L2029.1 342.9 L2029.1 356.974 Q2029.1 360.145 2029.96 361.048 Q2030.84 361.951 2033.5 361.951 L2037.87 361.951 L2037.87 365.516 L2033.5 365.516 Q2028.57 365.516 2026.69 363.687 Q2024.82 361.835 2024.82 356.974 L2024.82 342.9 L2021.69 342.9 L2021.69 339.59 L2024.82 339.59 L2024.82 332.229 L2029.1 332.229 Z\" fill=\"#000000\" fill-rule=\"evenodd\" fill-opacity=\"1\" /><path clip-path=\"url(#clip570)\" d=\"M 0 0 M2064.52 351.488 L2064.52 353.571 L2044.93 353.571 Q2045.21 357.969 2047.57 360.284 Q2049.96 362.576 2054.19 362.576 Q2056.65 362.576 2058.94 361.974 Q2061.25 361.372 2063.52 360.169 L2063.52 364.196 Q2061.23 365.168 2058.82 365.678 Q2056.42 366.187 2053.94 366.187 Q2047.74 366.187 2044.1 362.576 Q2040.49 358.965 2040.49 352.807 Q2040.49 346.442 2043.92 342.715 Q2047.36 338.965 2053.2 338.965 Q2058.43 338.965 2061.46 342.345 Q2064.52 345.701 2064.52 351.488 M2060.26 350.238 Q2060.21 346.743 2058.29 344.659 Q2056.39 342.576 2053.24 342.576 Q2049.68 342.576 2047.53 344.59 Q2045.4 346.604 2045.07 350.261 L2060.26 350.238 Z\" fill=\"#000000\" fill-rule=\"evenodd\" fill-opacity=\"1\" /><path clip-path=\"url(#clip570)\" d=\"M 0 0 M2086.05 343.525 L2086.05 329.497 L2090.3 329.497 L2090.3 365.516 L2086.05 365.516 L2086.05 361.627 Q2084.7 363.942 2082.64 365.076 Q2080.61 366.187 2077.74 366.187 Q2073.04 366.187 2070.07 362.437 Q2067.13 358.687 2067.13 352.576 Q2067.13 346.465 2070.07 342.715 Q2073.04 338.965 2077.74 338.965 Q2080.61 338.965 2082.64 340.099 Q2084.7 341.21 2086.05 343.525 M2071.53 352.576 Q2071.53 357.275 2073.45 359.96 Q2075.4 362.622 2078.78 362.622 Q2082.16 362.622 2084.1 359.96 Q2086.05 357.275 2086.05 352.576 Q2086.05 347.877 2084.1 345.215 Q2082.16 342.53 2078.78 342.53 Q2075.4 342.53 2073.45 345.215 Q2071.53 347.877 2071.53 352.576 Z\" fill=\"#000000\" fill-rule=\"evenodd\" fill-opacity=\"1\" /><path clip-path=\"url(#clip570)\" d=\"M 0 0 M2110.03 330.956 L2114.7 330.956 L2114.7 361.581 L2131.53 361.581 L2131.53 365.516 L2110.03 365.516 L2110.03 330.956 Z\" fill=\"#000000\" fill-rule=\"evenodd\" fill-opacity=\"1\" /><path clip-path=\"url(#clip570)\" d=\"M 0 0 M2136 339.59 L2140.26 339.59 L2140.26 365.516 L2136 365.516 L2136 339.59 M2136 329.497 L2140.26 329.497 L2140.26 334.891 L2136 334.891 L2136 329.497 Z\" fill=\"#000000\" fill-rule=\"evenodd\" fill-opacity=\"1\" /><path clip-path=\"url(#clip570)\" d=\"M 0 0 M2166.28 349.868 L2166.28 365.516 L2162.02 365.516 L2162.02 350.007 Q2162.02 346.326 2160.58 344.497 Q2159.15 342.669 2156.28 342.669 Q2152.83 342.669 2150.84 344.868 Q2148.85 347.067 2148.85 350.863 L2148.85 365.516 L2144.56 365.516 L2144.56 339.59 L2148.85 339.59 L2148.85 343.618 Q2150.37 341.28 2152.43 340.122 Q2154.52 338.965 2157.23 338.965 Q2161.69 338.965 2163.98 341.743 Q2166.28 344.497 2166.28 349.868 Z\" fill=\"#000000\" fill-rule=\"evenodd\" fill-opacity=\"1\" /><path clip-path=\"url(#clip570)\" d=\"M 0 0 M2192.92 351.488 L2192.92 353.571 L2173.34 353.571 Q2173.61 357.969 2175.98 360.284 Q2178.36 362.576 2182.6 362.576 Q2185.05 362.576 2187.34 361.974 Q2189.66 361.372 2191.92 360.169 L2191.92 364.196 Q2189.63 365.168 2187.23 365.678 Q2184.82 366.187 2182.34 366.187 Q2176.14 366.187 2172.5 362.576 Q2168.89 358.965 2168.89 352.807 Q2168.89 346.442 2172.32 342.715 Q2175.77 338.965 2181.6 338.965 Q2186.83 338.965 2189.86 342.345 Q2192.92 345.701 2192.92 351.488 M2188.66 350.238 Q2188.61 346.743 2186.69 344.659 Q2184.79 342.576 2181.65 342.576 Q2178.08 342.576 2175.93 344.59 Q2173.8 346.604 2173.48 350.261 L2188.66 350.238 Z\" fill=\"#000000\" fill-rule=\"evenodd\" fill-opacity=\"1\" /><path clip-path=\"url(#clip570)\" d=\"M 0 0 M2213.87 361.581 L2221.51 361.581 L2221.51 335.215 L2213.2 336.882 L2213.2 332.622 L2221.46 330.956 L2226.14 330.956 L2226.14 361.581 L2233.78 361.581 L2233.78 365.516 L2213.87 365.516 L2213.87 361.581 Z\" fill=\"#000000\" fill-rule=\"evenodd\" fill-opacity=\"1\" /><polyline clip-path=\"url(#clip570)\" style=\"stroke:#c271d2; stroke-width:4; stroke-opacity:1; fill:none\" points=\"\n",
       "  1778.02,408.716 1920.79,408.716 \n",
       "  \"/>\n",
       "<path clip-path=\"url(#clip570)\" d=\"M 0 0 M1966.83 392.57 L1966.83 397.13 Q1964.17 395.857 1961.81 395.232 Q1959.45 394.607 1957.25 394.607 Q1953.43 394.607 1951.35 396.088 Q1949.29 397.57 1949.29 400.301 Q1949.29 402.593 1950.65 403.774 Q1952.04 404.931 1955.88 405.649 L1958.71 406.227 Q1963.94 407.223 1966.42 409.746 Q1968.92 412.246 1968.92 416.459 Q1968.92 421.482 1965.54 424.074 Q1962.18 426.667 1955.68 426.667 Q1953.22 426.667 1950.44 426.111 Q1947.69 425.556 1944.73 424.468 L1944.73 419.653 Q1947.57 421.25 1950.31 422.061 Q1953.04 422.871 1955.68 422.871 Q1959.68 422.871 1961.86 421.297 Q1964.03 419.723 1964.03 416.806 Q1964.03 414.26 1962.46 412.824 Q1960.91 411.389 1957.34 410.672 L1954.5 410.116 Q1949.26 409.075 1946.93 406.852 Q1944.59 404.63 1944.59 400.672 Q1944.59 396.088 1947.81 393.45 Q1951.05 390.811 1956.72 390.811 Q1959.15 390.811 1961.67 391.251 Q1964.19 391.69 1966.83 392.57 Z\" fill=\"#000000\" fill-rule=\"evenodd\" fill-opacity=\"1\" /><path clip-path=\"url(#clip570)\" d=\"M 0 0 M1994.93 410.348 L1994.93 425.996 L1990.68 425.996 L1990.68 410.487 Q1990.68 406.806 1989.24 404.977 Q1987.81 403.149 1984.93 403.149 Q1981.49 403.149 1979.49 405.348 Q1977.5 407.547 1977.5 411.343 L1977.5 425.996 L1973.22 425.996 L1973.22 389.977 L1977.5 389.977 L1977.5 404.098 Q1979.03 401.76 1981.09 400.602 Q1983.18 399.445 1985.88 399.445 Q1990.35 399.445 1992.64 402.223 Q1994.93 404.977 1994.93 410.348 Z\" fill=\"#000000\" fill-rule=\"evenodd\" fill-opacity=\"1\" /><path clip-path=\"url(#clip570)\" d=\"M 0 0 M1999.4 400.07 L2003.66 400.07 L2003.66 425.996 L1999.4 425.996 L1999.4 400.07 M1999.4 389.977 L2003.66 389.977 L2003.66 395.371 L1999.4 395.371 L1999.4 389.977 Z\" fill=\"#000000\" fill-rule=\"evenodd\" fill-opacity=\"1\" /><path clip-path=\"url(#clip570)\" d=\"M 0 0 M2021.25 389.977 L2021.25 393.519 L2017.18 393.519 Q2014.89 393.519 2013.99 394.445 Q2013.11 395.371 2013.11 397.778 L2013.11 400.07 L2020.12 400.07 L2020.12 403.38 L2013.11 403.38 L2013.11 425.996 L2008.82 425.996 L2008.82 403.38 L2004.75 403.38 L2004.75 400.07 L2008.82 400.07 L2008.82 398.264 Q2008.82 393.936 2010.84 391.968 Q2012.85 389.977 2017.23 389.977 L2021.25 389.977 Z\" fill=\"#000000\" fill-rule=\"evenodd\" fill-opacity=\"1\" /><path clip-path=\"url(#clip570)\" d=\"M 0 0 M2029.1 392.709 L2029.1 400.07 L2037.87 400.07 L2037.87 403.38 L2029.1 403.38 L2029.1 417.454 Q2029.1 420.625 2029.96 421.528 Q2030.84 422.431 2033.5 422.431 L2037.87 422.431 L2037.87 425.996 L2033.5 425.996 Q2028.57 425.996 2026.69 424.167 Q2024.82 422.315 2024.82 417.454 L2024.82 403.38 L2021.69 403.38 L2021.69 400.07 L2024.82 400.07 L2024.82 392.709 L2029.1 392.709 Z\" fill=\"#000000\" fill-rule=\"evenodd\" fill-opacity=\"1\" /><path clip-path=\"url(#clip570)\" d=\"M 0 0 M2064.52 411.968 L2064.52 414.051 L2044.93 414.051 Q2045.21 418.449 2047.57 420.764 Q2049.96 423.056 2054.19 423.056 Q2056.65 423.056 2058.94 422.454 Q2061.25 421.852 2063.52 420.649 L2063.52 424.676 Q2061.23 425.648 2058.82 426.158 Q2056.42 426.667 2053.94 426.667 Q2047.74 426.667 2044.1 423.056 Q2040.49 419.445 2040.49 413.287 Q2040.49 406.922 2043.92 403.195 Q2047.36 399.445 2053.2 399.445 Q2058.43 399.445 2061.46 402.825 Q2064.52 406.181 2064.52 411.968 M2060.26 410.718 Q2060.21 407.223 2058.29 405.139 Q2056.39 403.056 2053.24 403.056 Q2049.68 403.056 2047.53 405.07 Q2045.4 407.084 2045.07 410.741 L2060.26 410.718 Z\" fill=\"#000000\" fill-rule=\"evenodd\" fill-opacity=\"1\" /><path clip-path=\"url(#clip570)\" d=\"M 0 0 M2086.05 404.005 L2086.05 389.977 L2090.3 389.977 L2090.3 425.996 L2086.05 425.996 L2086.05 422.107 Q2084.7 424.422 2082.64 425.556 Q2080.61 426.667 2077.74 426.667 Q2073.04 426.667 2070.07 422.917 Q2067.13 419.167 2067.13 413.056 Q2067.13 406.945 2070.07 403.195 Q2073.04 399.445 2077.74 399.445 Q2080.61 399.445 2082.64 400.579 Q2084.7 401.69 2086.05 404.005 M2071.53 413.056 Q2071.53 417.755 2073.45 420.44 Q2075.4 423.102 2078.78 423.102 Q2082.16 423.102 2084.1 420.44 Q2086.05 417.755 2086.05 413.056 Q2086.05 408.357 2084.1 405.695 Q2082.16 403.01 2078.78 403.01 Q2075.4 403.01 2073.45 405.695 Q2071.53 408.357 2071.53 413.056 Z\" fill=\"#000000\" fill-rule=\"evenodd\" fill-opacity=\"1\" /><path clip-path=\"url(#clip570)\" d=\"M 0 0 M2110.03 391.436 L2114.7 391.436 L2114.7 422.061 L2131.53 422.061 L2131.53 425.996 L2110.03 425.996 L2110.03 391.436 Z\" fill=\"#000000\" fill-rule=\"evenodd\" fill-opacity=\"1\" /><path clip-path=\"url(#clip570)\" d=\"M 0 0 M2136 400.07 L2140.26 400.07 L2140.26 425.996 L2136 425.996 L2136 400.07 M2136 389.977 L2140.26 389.977 L2140.26 395.371 L2136 395.371 L2136 389.977 Z\" fill=\"#000000\" fill-rule=\"evenodd\" fill-opacity=\"1\" /><path clip-path=\"url(#clip570)\" d=\"M 0 0 M2166.28 410.348 L2166.28 425.996 L2162.02 425.996 L2162.02 410.487 Q2162.02 406.806 2160.58 404.977 Q2159.15 403.149 2156.28 403.149 Q2152.83 403.149 2150.84 405.348 Q2148.85 407.547 2148.85 411.343 L2148.85 425.996 L2144.56 425.996 L2144.56 400.07 L2148.85 400.07 L2148.85 404.098 Q2150.37 401.76 2152.43 400.602 Q2154.52 399.445 2157.23 399.445 Q2161.69 399.445 2163.98 402.223 Q2166.28 404.977 2166.28 410.348 Z\" fill=\"#000000\" fill-rule=\"evenodd\" fill-opacity=\"1\" /><path clip-path=\"url(#clip570)\" d=\"M 0 0 M2192.92 411.968 L2192.92 414.051 L2173.34 414.051 Q2173.61 418.449 2175.98 420.764 Q2178.36 423.056 2182.6 423.056 Q2185.05 423.056 2187.34 422.454 Q2189.66 421.852 2191.92 420.649 L2191.92 424.676 Q2189.63 425.648 2187.23 426.158 Q2184.82 426.667 2182.34 426.667 Q2176.14 426.667 2172.5 423.056 Q2168.89 419.445 2168.89 413.287 Q2168.89 406.922 2172.32 403.195 Q2175.77 399.445 2181.6 399.445 Q2186.83 399.445 2189.86 402.825 Q2192.92 406.181 2192.92 411.968 M2188.66 410.718 Q2188.61 407.223 2186.69 405.139 Q2184.79 403.056 2181.65 403.056 Q2178.08 403.056 2175.93 405.07 Q2173.8 407.084 2173.48 410.741 L2188.66 410.718 Z\" fill=\"#000000\" fill-rule=\"evenodd\" fill-opacity=\"1\" /><path clip-path=\"url(#clip570)\" d=\"M 0 0 M2217.09 422.061 L2233.41 422.061 L2233.41 425.996 L2211.46 425.996 L2211.46 422.061 Q2214.12 419.306 2218.71 414.676 Q2223.31 410.024 2224.49 408.681 Q2226.74 406.158 2227.62 404.422 Q2228.52 402.663 2228.52 400.973 Q2228.52 398.218 2226.58 396.482 Q2224.66 394.746 2221.55 394.746 Q2219.35 394.746 2216.9 395.51 Q2214.47 396.274 2211.69 397.825 L2211.69 393.102 Q2214.52 391.968 2216.97 391.389 Q2219.42 390.811 2221.46 390.811 Q2226.83 390.811 2230.03 393.496 Q2233.22 396.181 2233.22 400.672 Q2233.22 402.801 2232.41 404.723 Q2231.62 406.621 2229.52 409.213 Q2228.94 409.885 2225.84 413.102 Q2222.73 416.297 2217.09 422.061 Z\" fill=\"#000000\" fill-rule=\"evenodd\" fill-opacity=\"1\" /></svg>\n"
      ]
     },
     "execution_count": 66,
     "metadata": {},
     "output_type": "execute_result"
    }
   ],
   "source": [
    "using Plots\n",
    "x = 1:10; y = rand(10, 2) # 2 columns means two lines\n",
    "plot(x, y, title = \"Two Lines\", label = [\"Line 1\" \"Line 2\"], lw = 3)\n",
    "plot!(x, y.+0.5, label = [\"Shifted Line 1\" \"Shifted Line 2\"], lw = 3)\n",
    "xlabel!(\"My x label\"); ylabel!(\"My y label\")"
   ]
  }
 ],
 "metadata": {
  "kernelspec": {
   "display_name": "Julia 1.5.3",
   "language": "julia",
   "name": "julia-1.5"
  },
  "language_info": {
   "file_extension": ".jl",
   "mimetype": "application/julia",
   "name": "julia",
   "version": "1.5.3"
  }
 },
 "nbformat": 4,
 "nbformat_minor": 4
}
